{
 "cells": [
  {
   "cell_type": "markdown",
   "metadata": {},
   "source": [
    "# Association Rules Project- Exploring Waterside \n",
    "\n"
   ]
  },
  {
   "cell_type": "code",
   "execution_count": 56,
   "metadata": {},
   "outputs": [],
   "source": [
    "import numpy as np # linear algebra\n",
    "import pandas as pd\n",
    "import matplotlib.pyplot as plt\n",
    "import mlxtend\n",
    "from mlxtend.preprocessing import TransactionEncoder\n",
    "from mlxtend.frequent_patterns import apriori\n",
    "from mlxtend.frequent_patterns import association_rules"
   ]
  },
  {
   "cell_type": "markdown",
   "metadata": {},
   "source": [
    "https://pbpython.com/pandas_dtypes.html\n",
    "https://www.weirdgeek.com/2018/11/plotting-stacked-bar-graph/\n",
    "https://developer.mozilla.org/en-US/docs/Web/CSS/CSS_Colors/Color_picker_tool\n",
    "\n"
   ]
  },
  {
   "cell_type": "code",
   "execution_count": 71,
   "metadata": {},
   "outputs": [
    {
     "data": {
      "text/html": [
       "<div>\n",
       "<style scoped>\n",
       "    .dataframe tbody tr th:only-of-type {\n",
       "        vertical-align: middle;\n",
       "    }\n",
       "\n",
       "    .dataframe tbody tr th {\n",
       "        vertical-align: top;\n",
       "    }\n",
       "\n",
       "    .dataframe thead th {\n",
       "        text-align: right;\n",
       "    }\n",
       "</style>\n",
       "<table border=\"1\" class=\"dataframe\">\n",
       "  <thead>\n",
       "    <tr style=\"text-align: right;\">\n",
       "      <th></th>\n",
       "      <th>Total</th>\n",
       "      <th>FOTM</th>\n",
       "      <th>Difference</th>\n",
       "      <th>FOTM%</th>\n",
       "    </tr>\n",
       "  </thead>\n",
       "  <tbody>\n",
       "    <tr>\n",
       "      <th>count</th>\n",
       "      <td>10.000000</td>\n",
       "      <td>10.000000</td>\n",
       "      <td>10.00000</td>\n",
       "      <td>10.000000</td>\n",
       "    </tr>\n",
       "    <tr>\n",
       "      <th>mean</th>\n",
       "      <td>56553.500000</td>\n",
       "      <td>13772.500000</td>\n",
       "      <td>42781.00000</td>\n",
       "      <td>0.243481</td>\n",
       "    </tr>\n",
       "    <tr>\n",
       "      <th>std</th>\n",
       "      <td>2190.872594</td>\n",
       "      <td>779.741588</td>\n",
       "      <td>1662.05522</td>\n",
       "      <td>0.008690</td>\n",
       "    </tr>\n",
       "    <tr>\n",
       "      <th>min</th>\n",
       "      <td>52431.000000</td>\n",
       "      <td>12399.000000</td>\n",
       "      <td>40032.00000</td>\n",
       "      <td>0.232321</td>\n",
       "    </tr>\n",
       "    <tr>\n",
       "      <th>25%</th>\n",
       "      <td>56163.750000</td>\n",
       "      <td>13274.000000</td>\n",
       "      <td>42438.00000</td>\n",
       "      <td>0.236902</td>\n",
       "    </tr>\n",
       "    <tr>\n",
       "      <th>50%</th>\n",
       "      <td>56828.000000</td>\n",
       "      <td>13714.000000</td>\n",
       "      <td>42716.00000</td>\n",
       "      <td>0.241773</td>\n",
       "    </tr>\n",
       "    <tr>\n",
       "      <th>75%</th>\n",
       "      <td>56966.500000</td>\n",
       "      <td>14282.500000</td>\n",
       "      <td>43338.75000</td>\n",
       "      <td>0.248820</td>\n",
       "    </tr>\n",
       "    <tr>\n",
       "      <th>max</th>\n",
       "      <td>60631.000000</td>\n",
       "      <td>15076.000000</td>\n",
       "      <td>46330.00000</td>\n",
       "      <td>0.259100</td>\n",
       "    </tr>\n",
       "  </tbody>\n",
       "</table>\n",
       "</div>"
      ],
      "text/plain": [
       "              Total          FOTM   Difference      FOTM%\n",
       "count     10.000000     10.000000     10.00000  10.000000\n",
       "mean   56553.500000  13772.500000  42781.00000   0.243481\n",
       "std     2190.872594    779.741588   1662.05522   0.008690\n",
       "min    52431.000000  12399.000000  40032.00000   0.232321\n",
       "25%    56163.750000  13274.000000  42438.00000   0.236902\n",
       "50%    56828.000000  13714.000000  42716.00000   0.241773\n",
       "75%    56966.500000  14282.500000  43338.75000   0.248820\n",
       "max    60631.000000  15076.000000  46330.00000   0.259100"
      ]
     },
     "execution_count": 71,
     "metadata": {},
     "output_type": "execute_result"
    }
   ],
   "source": [
    "DF= pd.read_csv(\"Desktop/Decoded Data Sources/Python/AR Project/Summary.csv\")\n",
    "DF.columns = ['WE','Total','FOTM']\n",
    "DF['Difference']=DF['Total'] - DF['FOTM']\n",
    "DF['FOTM%']=DF['FOTM'] / DF['Total']\n",
    "DF.head()\n",
    "DF.describe()\n",
    "#Below is a snapshot of the data\n",
    "#Total of 10 Weeks"
   ]
  },
  {
   "cell_type": "markdown",
   "metadata": {},
   "source": [
    "### Exploring the volume structure of Waterside\n",
    "\n",
    "24% of volume sold in Waterside is a FOTM product\n"
   ]
  },
  {
   "cell_type": "code",
   "execution_count": 118,
   "metadata": {},
   "outputs": [
    {
     "data": {
      "image/png": "[encoded data removed]",
      "text/plain": [
       "<Figure size 432x288 with 1 Axes>"
      ]
     },
     "metadata": {
      "needs_background": "light"
     },
     "output_type": "display_data"
    }
   ],
   "source": [
    "WE = DF['WE']\n",
    "FOTM = DF['FOTM']\n",
    "Rest = DF['Difference']\n",
    "ind = [country for country in countries]\n",
    " \n",
    "plt.bar(ind, Rest, width=0.6, label='Rest', color='#3F7FBF', bottom=FOTM)\n",
    "plt.bar(ind,FOTM, width=0.6, label='FOTM', color='#669999')\n",
    " \n",
    "plt.xticks(ind, countries)\n",
    "plt.ylabel(\"Volume\")\n",
    "plt.xlabel(\"Week\", rotation='vertical')\n",
    "plt.legend(loc=\"upper right\")\n",
    "plt.show()"
   ]
  },
  {
   "cell_type": "markdown",
   "metadata": {},
   "source": [
    "### Reading in 10 weeks of transaction data"
   ]
  },
  {
   "cell_type": "code",
   "execution_count": 168,
   "metadata": {},
   "outputs": [
    {
     "data": {
      "text/html": [
       "<div>\n",
       "<style scoped>\n",
       "    .dataframe tbody tr th:only-of-type {\n",
       "        vertical-align: middle;\n",
       "    }\n",
       "\n",
       "    .dataframe tbody tr th {\n",
       "        vertical-align: top;\n",
       "    }\n",
       "\n",
       "    .dataframe thead th {\n",
       "        text-align: right;\n",
       "    }\n",
       "</style>\n",
       "<table border=\"1\" class=\"dataframe\">\n",
       "  <thead>\n",
       "    <tr style=\"text-align: right;\">\n",
       "      <th></th>\n",
       "      <th>Date</th>\n",
       "      <th>DOW</th>\n",
       "      <th>TID</th>\n",
       "      <th>Category</th>\n",
       "      <th>Product</th>\n",
       "      <th>Quantity</th>\n",
       "      <th>TID_Items</th>\n",
       "      <th>WE</th>\n",
       "    </tr>\n",
       "  </thead>\n",
       "  <tbody>\n",
       "    <tr>\n",
       "      <th>0</th>\n",
       "      <td>20190417</td>\n",
       "      <td>Wednesday</td>\n",
       "      <td>7425631725</td>\n",
       "      <td>Bakery</td>\n",
       "      <td>4811041</td>\n",
       "      <td>168.0</td>\n",
       "      <td>168</td>\n",
       "      <td>20/04/2019</td>\n",
       "    </tr>\n",
       "    <tr>\n",
       "      <th>1</th>\n",
       "      <td>20190315</td>\n",
       "      <td>Friday</td>\n",
       "      <td>7341926957</td>\n",
       "      <td>Confectionery</td>\n",
       "      <td>161072</td>\n",
       "      <td>96.0</td>\n",
       "      <td>99</td>\n",
       "      <td>16/03/2019</td>\n",
       "    </tr>\n",
       "    <tr>\n",
       "      <th>2</th>\n",
       "      <td>20190315</td>\n",
       "      <td>Friday</td>\n",
       "      <td>7341926957</td>\n",
       "      <td>Soft Drinks</td>\n",
       "      <td>1011374</td>\n",
       "      <td>1.0</td>\n",
       "      <td>99</td>\n",
       "      <td>16/03/2019</td>\n",
       "    </tr>\n",
       "    <tr>\n",
       "      <th>3</th>\n",
       "      <td>20190315</td>\n",
       "      <td>Friday</td>\n",
       "      <td>7341926957</td>\n",
       "      <td>In Store Bakery</td>\n",
       "      <td>124176</td>\n",
       "      <td>2.0</td>\n",
       "      <td>99</td>\n",
       "      <td>16/03/2019</td>\n",
       "    </tr>\n",
       "    <tr>\n",
       "      <th>4</th>\n",
       "      <td>20190420</td>\n",
       "      <td>Saturday</td>\n",
       "      <td>7433746269</td>\n",
       "      <td>Reduced Sales</td>\n",
       "      <td>4135973</td>\n",
       "      <td>5.0</td>\n",
       "      <td>74</td>\n",
       "      <td>20/04/2019</td>\n",
       "    </tr>\n",
       "  </tbody>\n",
       "</table>\n",
       "</div>"
      ],
      "text/plain": [
       "       Date        DOW         TID               Category  Product  Quantity  \\\n",
       "0  20190417  Wednesday  7425631725           Bakery        4811041     168.0   \n",
       "1  20190315     Friday  7341926957    Confectionery         161072      96.0   \n",
       "2  20190315     Friday  7341926957      Soft Drinks        1011374       1.0   \n",
       "3  20190315     Friday  7341926957  In Store Bakery         124176       2.0   \n",
       "4  20190420   Saturday  7433746269    Reduced Sales        4135973       5.0   \n",
       "\n",
       "   TID_Items          WE  \n",
       "0        168  20/04/2019  \n",
       "1         99  16/03/2019  \n",
       "2         99  16/03/2019  \n",
       "3         99  16/03/2019  \n",
       "4         74  20/04/2019  "
      ]
     },
     "execution_count": 168,
     "metadata": {},
     "output_type": "execute_result"
    }
   ],
   "source": [
    "DF2= pd.read_csv(\"Desktop/Decoded Data Sources/Python/AR Project/WS70.csv\")\n",
    "DF2.columns = ['Date','DOW','TID','Category','Product','Quantity','TID_Items','WE']\n",
    "DF2.head()\n"
   ]
  },
  {
   "cell_type": "code",
   "execution_count": 172,
   "metadata": {},
   "outputs": [
    {
     "data": {
      "text/html": [
       "<div>\n",
       "<style scoped>\n",
       "    .dataframe tbody tr th:only-of-type {\n",
       "        vertical-align: middle;\n",
       "    }\n",
       "\n",
       "    .dataframe tbody tr th {\n",
       "        vertical-align: top;\n",
       "    }\n",
       "\n",
       "    .dataframe thead th {\n",
       "        text-align: right;\n",
       "    }\n",
       "</style>\n",
       "<table border=\"1\" class=\"dataframe\">\n",
       "  <thead>\n",
       "    <tr style=\"text-align: right;\">\n",
       "      <th></th>\n",
       "      <th>ARTICLE</th>\n",
       "      <th>Product</th>\n",
       "    </tr>\n",
       "  </thead>\n",
       "  <tbody>\n",
       "    <tr>\n",
       "      <th>0</th>\n",
       "      <td>DRY OLOROSO</td>\n",
       "      <td>46557</td>\n",
       "    </tr>\n",
       "    <tr>\n",
       "      <th>1</th>\n",
       "      <td>*FOF ROAST BEEF &amp; ONION</td>\n",
       "      <td>878342</td>\n",
       "    </tr>\n",
       "    <tr>\n",
       "      <th>2</th>\n",
       "      <td>50CL PORT DECANTER</td>\n",
       "      <td>224102</td>\n",
       "    </tr>\n",
       "    <tr>\n",
       "      <th>3</th>\n",
       "      <td>BE MY SWEETHEART</td>\n",
       "      <td>250713</td>\n",
       "    </tr>\n",
       "    <tr>\n",
       "      <th>4</th>\n",
       "      <td>BERRIES CHERRY FLAKES</td>\n",
       "      <td>964378</td>\n",
       "    </tr>\n",
       "  </tbody>\n",
       "</table>\n",
       "</div>"
      ],
      "text/plain": [
       "                    ARTICLE  Product\n",
       "0               DRY OLOROSO    46557\n",
       "1   *FOF ROAST BEEF & ONION   878342\n",
       "2        50CL PORT DECANTER   224102\n",
       "3          BE MY SWEETHEART   250713\n",
       "4     BERRIES CHERRY FLAKES   964378"
      ]
     },
     "execution_count": 172,
     "metadata": {},
     "output_type": "execute_result"
    }
   ],
   "source": [
    "DF3= pd.read_csv(\"Desktop/Decoded Data Sources/Python/AR Project/Product.csv\")\n",
    "DF3.columns=['ARTICLE','Product']\n",
    "DF3.head()"
   ]
  },
  {
   "cell_type": "code",
   "execution_count": 174,
   "metadata": {},
   "outputs": [
    {
     "data": {
      "text/plain": [
       "LARGE CARRIER BAG.                 9752\n",
       "REDUCED F07C                       7365\n",
       "LATTE-M                            4553\n",
       "HOT PLAIN  RICE                    4480\n",
       "*ALL BUTTER CROISSANT .            4033\n",
       "SHREDDED CHICKEN                   3990\n",
       "*EW STILL WATER 500ML              3835\n",
       "SKINNY FRIES                       3722\n",
       "EW PORRIDGE                        3211\n",
       "QUARTER ROTISSERIE                 3173\n",
       "SAUSAGE ROLL                       3124\n",
       "ZERO COKE CAN                      3109\n",
       "*DIET COKE BTL 500ML               3049\n",
       "GREEK STYLE SALAD                  3029\n",
       "SWEET POTATO FRIES                 3018\n",
       "EW SINGLE BANANA                   2781\n",
       "*EW SPARKL WATER 500ML             2733\n",
       "REDUCED DEFAULT                    2713\n",
       "DIET COKE CAN.                     2703\n",
       "REDUCED F03C                       2670\n",
       "AMERICANO-M                        2589\n",
       "REDUCED F04C                       2441\n",
       "CAESAR SALAD                       2364\n",
       "CAPPUCCINO-M                       2327\n",
       "REDUCED F09A                       2317\n",
       "REDUCED F16C                       2288\n",
       "EW STILL 1L.                       2230\n",
       "SCOTTISH STILL WATER 2 L           2190\n",
       "REDUCED F15C                       2135\n",
       "FLAT WHITE                         2134\n",
       "                                   ... \n",
       "BATTERIES SIZE AAA.                   1\n",
       "MUM WISHES                            1\n",
       "WHOLE ROAST CHICKEN                   1\n",
       "SO DOUBLE MACCHIATO                   1\n",
       "CACTUS                                1\n",
       "PULLED PORK SANDWICH                  1\n",
       "NARCISSI POSY                         1\n",
       "Auntie and Uncle Fun Characters       1\n",
       "GRE RETIRE FEM                        1\n",
       "DOUBLE CREAM 300ML                    1\n",
       "2 PAINS AU CHOCOLAT                   1\n",
       "LOVE                                  1\n",
       "EU CHOCOLATE FLAPJACK                 1\n",
       "SIMPLY GRAPEFRUIT                     1\n",
       "AFTER DINNER MINTS                    1\n",
       "LARGE SAN FRAN SDOUGH                 1\n",
       "RED CABBAGE N                         1\n",
       "IDEAL HOME                            1\n",
       "PARMENTIER POTATOES 380G              1\n",
       "CAPE RED.                             1\n",
       "LOW ALCOHOL CZECH LAGER               1\n",
       "FTO MINI ROLL PLAT                    1\n",
       "Dad Slippers                          1\n",
       "BERRIES AND CHERRIES                  1\n",
       "ULT VANILLA ICE CREAM                 1\n",
       "VZ PERSONAL PROMOTION                 1\n",
       "BARBADOS RUM (TOP TIER).              1\n",
       "CASHEW COCONUT AND PINE.              1\n",
       "GIFFORDS HALL SPARKLING.              1\n",
       "PORTER                                1\n",
       "Name: Freq, Length: 3397, dtype: int64"
      ]
     },
     "execution_count": 174,
     "metadata": {},
     "output_type": "execute_result"
    }
   ],
   "source": [
    "Baskets = pd.merge(DF2,DF3, on=['Product'], how='inner')\n",
    "Baskets['ARTICLE'].value_counts().rename(\"Freq\")"
   ]
  },
  {
   "cell_type": "code",
   "execution_count": 175,
   "metadata": {},
   "outputs": [
    {
     "data": {
      "text/html": [
       "<div>\n",
       "<style scoped>\n",
       "    .dataframe tbody tr th:only-of-type {\n",
       "        vertical-align: middle;\n",
       "    }\n",
       "\n",
       "    .dataframe tbody tr th {\n",
       "        vertical-align: top;\n",
       "    }\n",
       "\n",
       "    .dataframe thead th {\n",
       "        text-align: right;\n",
       "    }\n",
       "</style>\n",
       "<table border=\"1\" class=\"dataframe\">\n",
       "  <thead>\n",
       "    <tr style=\"text-align: right;\">\n",
       "      <th></th>\n",
       "      <th>TID</th>\n",
       "      <th>ARTICLE</th>\n",
       "    </tr>\n",
       "  </thead>\n",
       "  <tbody>\n",
       "    <tr>\n",
       "      <th>0</th>\n",
       "      <td>7264039585</td>\n",
       "      <td>[*ALL BUTTER CROISSANT .]</td>\n",
       "    </tr>\n",
       "    <tr>\n",
       "      <th>1</th>\n",
       "      <td>7264064985</td>\n",
       "      <td>[LGE FRESH ORANGE JUICE]</td>\n",
       "    </tr>\n",
       "    <tr>\n",
       "      <th>2</th>\n",
       "      <td>7264065113</td>\n",
       "      <td>[*ALL BUTTER CROISSANT .]</td>\n",
       "    </tr>\n",
       "    <tr>\n",
       "      <th>3</th>\n",
       "      <td>7264065144</td>\n",
       "      <td>[COCA COLA CLASSIC 1L., AMERICANO-M]</td>\n",
       "    </tr>\n",
       "    <tr>\n",
       "      <th>4</th>\n",
       "      <td>7264065272</td>\n",
       "      <td>[EW SINGLE BANANA, EW PORRIDGE]</td>\n",
       "    </tr>\n",
       "  </tbody>\n",
       "</table>\n",
       "</div>"
      ],
      "text/plain": [
       "          TID                               ARTICLE\n",
       "0  7264039585             [*ALL BUTTER CROISSANT .]\n",
       "1  7264064985              [LGE FRESH ORANGE JUICE]\n",
       "2  7264065113             [*ALL BUTTER CROISSANT .]\n",
       "3  7264065144  [COCA COLA CLASSIC 1L., AMERICANO-M]\n",
       "4  7264065272       [EW SINGLE BANANA, EW PORRIDGE]"
      ]
     },
     "execution_count": 175,
     "metadata": {},
     "output_type": "execute_result"
    }
   ],
   "source": [
    "Baskets = Baskets.groupby(['TID']).ARTICLE.apply(np.array).reset_index()\n",
    "Baskets.head()"
   ]
  },
  {
   "cell_type": "code",
   "execution_count": 179,
   "metadata": {},
   "outputs": [],
   "source": [
    "#transactions = order_baskets.iloc[:,1:].values\n",
    "te = TransactionEncoder()\n",
    "te_ary = te.fit(Baskets['ARTICLE']).transform(Baskets['ARTICLE'])\n",
    "dataset = pd.DataFrame(te_ary, columns=te.columns_)"
   ]
  },
  {
   "cell_type": "code",
   "execution_count": 181,
   "metadata": {},
   "outputs": [
    {
     "data": {
      "text/html": [
       "<div>\n",
       "<style scoped>\n",
       "    .dataframe tbody tr th:only-of-type {\n",
       "        vertical-align: middle;\n",
       "    }\n",
       "\n",
       "    .dataframe tbody tr th {\n",
       "        vertical-align: top;\n",
       "    }\n",
       "\n",
       "    .dataframe thead th {\n",
       "        text-align: right;\n",
       "    }\n",
       "</style>\n",
       "<table border=\"1\" class=\"dataframe\">\n",
       "  <thead>\n",
       "    <tr style=\"text-align: right;\">\n",
       "      <th></th>\n",
       "      <th>support</th>\n",
       "      <th>itemsets</th>\n",
       "      <th>length</th>\n",
       "    </tr>\n",
       "  </thead>\n",
       "  <tbody>\n",
       "    <tr>\n",
       "      <th>80</th>\n",
       "      <td>0.008759</td>\n",
       "      <td>(CHICKEN TIKKA MASALA, HOT PLAIN  RICE)</td>\n",
       "      <td>2</td>\n",
       "    </tr>\n",
       "    <tr>\n",
       "      <th>81</th>\n",
       "      <td>0.005834</td>\n",
       "      <td>(LARGE CARRIER BAG., REDUCED F07C)</td>\n",
       "      <td>2</td>\n",
       "    </tr>\n",
       "    <tr>\n",
       "      <th>82</th>\n",
       "      <td>0.005172</td>\n",
       "      <td>(REDUCED F16C, REDUCED F07C)</td>\n",
       "      <td>2</td>\n",
       "    </tr>\n",
       "  </tbody>\n",
       "</table>\n",
       "</div>"
      ],
      "text/plain": [
       "     support                                 itemsets  length\n",
       "80  0.008759  (CHICKEN TIKKA MASALA, HOT PLAIN  RICE)       2\n",
       "81  0.005834       (LARGE CARRIER BAG., REDUCED F07C)       2\n",
       "82  0.005172             (REDUCED F16C, REDUCED F07C)       2"
      ]
     },
     "execution_count": 181,
     "metadata": {},
     "output_type": "execute_result"
    }
   ],
   "source": [
    "frequent_itemsets = apriori(dataset, min_support=0.005, use_colnames=True)\n",
    "frequent_itemsets['length'] = frequent_itemsets['itemsets'].apply(lambda x: len(x))\n",
    "frequent_itemsets = frequent_itemsets[ (frequent_itemsets['length'] == 2)]\n",
    "frequent_itemsets"
   ]
  },
  {
   "cell_type": "code",
   "execution_count": 183,
   "metadata": {},
   "outputs": [
    {
     "data": {
      "text/html": [
       "<div>\n",
       "<style scoped>\n",
       "    .dataframe tbody tr th:only-of-type {\n",
       "        vertical-align: middle;\n",
       "    }\n",
       "\n",
       "    .dataframe tbody tr th {\n",
       "        vertical-align: top;\n",
       "    }\n",
       "\n",
       "    .dataframe thead th {\n",
       "        text-align: right;\n",
       "    }\n",
       "</style>\n",
       "<table border=\"1\" class=\"dataframe\">\n",
       "  <thead>\n",
       "    <tr style=\"text-align: right;\">\n",
       "      <th></th>\n",
       "      <th>antecedents</th>\n",
       "      <th>consequents</th>\n",
       "      <th>antecedent support</th>\n",
       "      <th>consequent support</th>\n",
       "      <th>support</th>\n",
       "      <th>confidence</th>\n",
       "      <th>lift</th>\n",
       "      <th>leverage</th>\n",
       "      <th>conviction</th>\n",
       "      <th>antecedent_len</th>\n",
       "    </tr>\n",
       "  </thead>\n",
       "  <tbody>\n",
       "  </tbody>\n",
       "</table>\n",
       "</div>"
      ],
      "text/plain": [
       "Empty DataFrame\n",
       "Columns: [antecedents, consequents, antecedent support, consequent support, support, confidence, lift, leverage, conviction, antecedent_len]\n",
       "Index: []"
      ]
     },
     "execution_count": 183,
     "metadata": {},
     "output_type": "execute_result"
    }
   ],
   "source": [
    "frequent_itemsets = apriori(dataset, min_support=0.003, use_colnames=True)\n",
    "rules = association_rules(frequent_itemsets, metric=\"confidence\", min_threshold=0.3)\n",
    "rules[\"antecedent_len\"] = rules[\"antecedents\"].apply(lambda x: len(x))\n",
    "rules[ (rules['antecedent_len'] >= 2)]"
   ]
  },
  {
   "cell_type": "code",
   "execution_count": null,
   "metadata": {},
   "outputs": [],
   "source": []
  }
 ],
 "metadata": {
  "kernelspec": {
   "display_name": "Python 3",
   "language": "python",
   "name": "python3"
  },
  "language_info": {
   "codemirror_mode": {
    "name": "ipython",
    "version": 3
   },
   "file_extension": ".py",
   "mimetype": "text/x-python",
   "name": "python",
   "nbconvert_exporter": "python",
   "pygments_lexer": "ipython3",
   "version": "3.7.0"
  }
 },
 "nbformat": 4,
 "nbformat_minor": 2
}
