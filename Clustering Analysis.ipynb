{
 "cells": [
  {
   "cell_type": "markdown",
   "metadata": {},
   "source": [
    "# Clustering Analysis: K Means\n",
    "\n",
    "Quintessentially, the relationship between sales opportunity and reducing waste is a crucial deterministic factor in delivering profit. \n",
    "An ideal model for M&S is for all products across all stores to deliver maximum sales potential with low waste generated.  Whilst this is a simple and neat statement, however, in reality, delivering such a model is problematic and complex. This analysis will explore this relationship.\n",
    "\n",
    "### Framing the Data Question \n",
    "Explore and determine commonality clustering between lost sales opportunity and waste across a 12 month period by day, store, SPC using K- Means\n",
    "\n",
    "\n",
    "### Metrics\n",
    "\n",
    "-  Lost Sales Opportunity- Calculated using demand forecast and sales profile, extrapolated from the last sale of the product. This will be displayed in £GBP and will be aggregated appropriately. \n",
    "\n",
    "-  Waste- This is on shelf value of a product (£GBP) that has been declared as waste product as it is either due to expire beyond its lifespan or has already expired. In the instance of the former, there is an instore process to recover sales from this product through applying a reduction to the product’s price. In the latter, the product is immediately disposed of. \n",
    "\n",
    "### Domain knowledge expectations\n",
    "\n",
    "Before sourcing and exploring the data, below are some expectations and considerations that may could occur: \n",
    "-\t Seasonality and the impact of weather \n",
    "-\tDespite a prescript set of store processes, delivery will differ from store to store\n",
    "-\tM&S reliance on eventing periods i.e. Christmas could skew results \n",
    "\n",
    "\n",
    "### Contents\n",
    "\n",
    "Part 1: One Store Analysis\n",
    "\n",
    "-  [Importing the libraries](#Importing-the-libraries)\n",
    "\n",
    "-  [Sourcing and importing the data](#Sourcing-and-importing-the-data)\n",
    "-  [Visualising the data](#Visualising-the-Data)\n",
    "-  [Applying and Visualising K-means](#Applying-and-Visualising-K-means)\n",
    "-  [Initial Refinement- Elbow Curve](#Initial-Refinement--Elbow-Curve)\n",
    "-  [Investigating the Data](#Investigating-the-Data)\n",
    "\n",
    "\n",
    "Part 2: 50 Store Analysis\n"
   ]
  },
  {
   "cell_type": "markdown",
   "metadata": {},
   "source": [
    "## Importing the libraries"
   ]
  },
  {
   "cell_type": "code",
   "execution_count": 94,
   "metadata": {},
   "outputs": [],
   "source": [
    "import pandas as pd\n",
    "import numpy as np\n",
    "import matplotlib.pyplot as plt\n",
    "from sklearn.preprocessing import scale\n",
    "from sklearn.preprocessing import normalize, MinMaxScaler\n",
    "from sklearn.cluster import KMeans\n",
    "%matplotlib inline\n",
    "from datetime import datetime"
   ]
  },
  {
   "cell_type": "markdown",
   "metadata": {},
   "source": [
    "## Sourcing and importing the data\n",
    "\n",
    "The data required has been sourced from existing M&S approved data sources and was extracted using the Tibco Spotfire tool.\n",
    "\n",
    "Before bringing the data into Jupyter, initial inspections revealed that there are 40 million rows of data, as the exract covers 363 days and the entire main chain estate. With this considered, I will begin the analysis with one store and then build up to include more\n",
    "\n",
    "Data Integrity- No customer or personal information is held in this data extract "
   ]
  },
  {
   "cell_type": "code",
   "execution_count": 95,
   "metadata": {},
   "outputs": [
    {
     "data": {
      "text/html": [
       "<div>\n",
       "<style scoped>\n",
       "    .dataframe tbody tr th:only-of-type {\n",
       "        vertical-align: middle;\n",
       "    }\n",
       "\n",
       "    .dataframe tbody tr th {\n",
       "        vertical-align: top;\n",
       "    }\n",
       "\n",
       "    .dataframe thead th {\n",
       "        text-align: right;\n",
       "    }\n",
       "</style>\n",
       "<table border=\"1\" class=\"dataframe\">\n",
       "  <thead>\n",
       "    <tr style=\"text-align: right;\">\n",
       "      <th></th>\n",
       "      <th>CALENDAR_ID</th>\n",
       "      <th>GEOGRAPHY_ID</th>\n",
       "      <th>Sum(WASTE_VALUE_GBP)</th>\n",
       "      <th>Sum(Lost Opp &gt;0)</th>\n",
       "    </tr>\n",
       "  </thead>\n",
       "  <tbody>\n",
       "    <tr>\n",
       "      <th>0</th>\n",
       "      <td>20180409</td>\n",
       "      <td>438</td>\n",
       "      <td>5150.87</td>\n",
       "      <td>2980.37</td>\n",
       "    </tr>\n",
       "    <tr>\n",
       "      <th>1</th>\n",
       "      <td>20180410</td>\n",
       "      <td>438</td>\n",
       "      <td>4577.15</td>\n",
       "      <td>3612.02</td>\n",
       "    </tr>\n",
       "    <tr>\n",
       "      <th>2</th>\n",
       "      <td>20180411</td>\n",
       "      <td>438</td>\n",
       "      <td>4976.61</td>\n",
       "      <td>2582.13</td>\n",
       "    </tr>\n",
       "    <tr>\n",
       "      <th>3</th>\n",
       "      <td>20180412</td>\n",
       "      <td>438</td>\n",
       "      <td>3680.91</td>\n",
       "      <td>2912.13</td>\n",
       "    </tr>\n",
       "    <tr>\n",
       "      <th>4</th>\n",
       "      <td>20180413</td>\n",
       "      <td>438</td>\n",
       "      <td>3250.87</td>\n",
       "      <td>3400.23</td>\n",
       "    </tr>\n",
       "  </tbody>\n",
       "</table>\n",
       "</div>"
      ],
      "text/plain": [
       "   CALENDAR_ID  GEOGRAPHY_ID  Sum(WASTE_VALUE_GBP)  Sum(Lost Opp >0)\n",
       "0     20180409           438               5150.87           2980.37\n",
       "1     20180410           438               4577.15           3612.02\n",
       "2     20180411           438               4976.61           2582.13\n",
       "3     20180412           438               3680.91           2912.13\n",
       "4     20180413           438               3250.87           3400.23"
      ]
     },
     "execution_count": 95,
     "metadata": {},
     "output_type": "execute_result"
    }
   ],
   "source": [
    "DF= pd.read_csv(\"Desktop/Decoded Data Sources/Python/Cluster.csv\")\n",
    "DF.head()"
   ]
  },
  {
   "cell_type": "code",
   "execution_count": 96,
   "metadata": {},
   "outputs": [
    {
     "data": {
      "text/plain": [
       "Index(['CALENDAR_ID', 'GEOGRAPHY_ID', 'Sum(WASTE_VALUE_GBP)',\n",
       "       'Sum(Lost Opp >0)'],\n",
       "      dtype='object')"
      ]
     },
     "execution_count": 96,
     "metadata": {},
     "output_type": "execute_result"
    }
   ],
   "source": [
    "DF.columns"
   ]
  },
  {
   "cell_type": "markdown",
   "metadata": {},
   "source": [
    "There are four columns with the data frame\n",
    "\n",
    "-  CALENDAR_ID- The date\n",
    "-  GEOGRAPHY_ ID- The Store\n",
    "-  Sum(WASTE_VALUE_GBP)- Waste \n",
    "-  Sum(Lost Opp >0)-Opportunity"
   ]
  },
  {
   "cell_type": "code",
   "execution_count": 97,
   "metadata": {},
   "outputs": [
    {
     "data": {
      "text/html": [
       "<div>\n",
       "<style scoped>\n",
       "    .dataframe tbody tr th:only-of-type {\n",
       "        vertical-align: middle;\n",
       "    }\n",
       "\n",
       "    .dataframe tbody tr th {\n",
       "        vertical-align: top;\n",
       "    }\n",
       "\n",
       "    .dataframe thead th {\n",
       "        text-align: right;\n",
       "    }\n",
       "</style>\n",
       "<table border=\"1\" class=\"dataframe\">\n",
       "  <thead>\n",
       "    <tr style=\"text-align: right;\">\n",
       "      <th></th>\n",
       "      <th>Date</th>\n",
       "      <th>Store</th>\n",
       "      <th>Waste</th>\n",
       "      <th>Opportunity</th>\n",
       "    </tr>\n",
       "  </thead>\n",
       "  <tbody>\n",
       "    <tr>\n",
       "      <th>0</th>\n",
       "      <td>20180409</td>\n",
       "      <td>438</td>\n",
       "      <td>5150.87</td>\n",
       "      <td>2980.37</td>\n",
       "    </tr>\n",
       "    <tr>\n",
       "      <th>1</th>\n",
       "      <td>20180410</td>\n",
       "      <td>438</td>\n",
       "      <td>4577.15</td>\n",
       "      <td>3612.02</td>\n",
       "    </tr>\n",
       "    <tr>\n",
       "      <th>2</th>\n",
       "      <td>20180411</td>\n",
       "      <td>438</td>\n",
       "      <td>4976.61</td>\n",
       "      <td>2582.13</td>\n",
       "    </tr>\n",
       "    <tr>\n",
       "      <th>3</th>\n",
       "      <td>20180412</td>\n",
       "      <td>438</td>\n",
       "      <td>3680.91</td>\n",
       "      <td>2912.13</td>\n",
       "    </tr>\n",
       "    <tr>\n",
       "      <th>4</th>\n",
       "      <td>20180413</td>\n",
       "      <td>438</td>\n",
       "      <td>3250.87</td>\n",
       "      <td>3400.23</td>\n",
       "    </tr>\n",
       "  </tbody>\n",
       "</table>\n",
       "</div>"
      ],
      "text/plain": [
       "       Date  Store    Waste  Opportunity\n",
       "0  20180409    438  5150.87      2980.37\n",
       "1  20180410    438  4577.15      3612.02\n",
       "2  20180411    438  4976.61      2582.13\n",
       "3  20180412    438  3680.91      2912.13\n",
       "4  20180413    438  3250.87      3400.23"
      ]
     },
     "execution_count": 97,
     "metadata": {},
     "output_type": "execute_result"
    }
   ],
   "source": [
    "DF.columns = ['Date','Store','Waste','Opportunity']\n",
    "DF.head()"
   ]
  },
  {
   "cell_type": "code",
   "execution_count": 98,
   "metadata": {},
   "outputs": [
    {
     "data": {
      "text/html": [
       "<div>\n",
       "<style scoped>\n",
       "    .dataframe tbody tr th:only-of-type {\n",
       "        vertical-align: middle;\n",
       "    }\n",
       "\n",
       "    .dataframe tbody tr th {\n",
       "        vertical-align: top;\n",
       "    }\n",
       "\n",
       "    .dataframe thead th {\n",
       "        text-align: right;\n",
       "    }\n",
       "</style>\n",
       "<table border=\"1\" class=\"dataframe\">\n",
       "  <thead>\n",
       "    <tr style=\"text-align: right;\">\n",
       "      <th></th>\n",
       "      <th>Date</th>\n",
       "      <th>Store</th>\n",
       "      <th>Waste</th>\n",
       "      <th>Opportunity</th>\n",
       "    </tr>\n",
       "  </thead>\n",
       "  <tbody>\n",
       "    <tr>\n",
       "      <th>count</th>\n",
       "      <td>3.630000e+02</td>\n",
       "      <td>363.0</td>\n",
       "      <td>363.000000</td>\n",
       "      <td>363.000000</td>\n",
       "    </tr>\n",
       "    <tr>\n",
       "      <th>mean</th>\n",
       "      <td>2.018334e+07</td>\n",
       "      <td>438.0</td>\n",
       "      <td>4866.718017</td>\n",
       "      <td>3377.082755</td>\n",
       "    </tr>\n",
       "    <tr>\n",
       "      <th>std</th>\n",
       "      <td>4.173336e+03</td>\n",
       "      <td>0.0</td>\n",
       "      <td>1439.093359</td>\n",
       "      <td>2288.770488</td>\n",
       "    </tr>\n",
       "    <tr>\n",
       "      <th>min</th>\n",
       "      <td>2.018041e+07</td>\n",
       "      <td>438.0</td>\n",
       "      <td>2021.640000</td>\n",
       "      <td>924.090000</td>\n",
       "    </tr>\n",
       "    <tr>\n",
       "      <th>25%</th>\n",
       "      <td>2.018071e+07</td>\n",
       "      <td>438.0</td>\n",
       "      <td>3824.550000</td>\n",
       "      <td>2469.915000</td>\n",
       "    </tr>\n",
       "    <tr>\n",
       "      <th>50%</th>\n",
       "      <td>2.018101e+07</td>\n",
       "      <td>438.0</td>\n",
       "      <td>4700.020000</td>\n",
       "      <td>3094.230000</td>\n",
       "    </tr>\n",
       "    <tr>\n",
       "      <th>75%</th>\n",
       "      <td>2.019011e+07</td>\n",
       "      <td>438.0</td>\n",
       "      <td>5686.135000</td>\n",
       "      <td>3834.945000</td>\n",
       "    </tr>\n",
       "    <tr>\n",
       "      <th>max</th>\n",
       "      <td>2.019041e+07</td>\n",
       "      <td>438.0</td>\n",
       "      <td>12141.050000</td>\n",
       "      <td>36097.080000</td>\n",
       "    </tr>\n",
       "  </tbody>\n",
       "</table>\n",
       "</div>"
      ],
      "text/plain": [
       "               Date  Store         Waste   Opportunity\n",
       "count  3.630000e+02  363.0    363.000000    363.000000\n",
       "mean   2.018334e+07  438.0   4866.718017   3377.082755\n",
       "std    4.173336e+03    0.0   1439.093359   2288.770488\n",
       "min    2.018041e+07  438.0   2021.640000    924.090000\n",
       "25%    2.018071e+07  438.0   3824.550000   2469.915000\n",
       "50%    2.018101e+07  438.0   4700.020000   3094.230000\n",
       "75%    2.019011e+07  438.0   5686.135000   3834.945000\n",
       "max    2.019041e+07  438.0  12141.050000  36097.080000"
      ]
     },
     "execution_count": 98,
     "metadata": {},
     "output_type": "execute_result"
    }
   ],
   "source": [
    "# Taking a quick look at the high level stats of DF\n",
    "DF.describe()"
   ]
  },
  {
   "cell_type": "code",
   "execution_count": 99,
   "metadata": {},
   "outputs": [
    {
     "name": "stdout",
     "output_type": "stream",
     "text": [
      "<class 'pandas.core.frame.DataFrame'>\n",
      "RangeIndex: 363 entries, 0 to 362\n",
      "Data columns (total 4 columns):\n",
      "Date           363 non-null int64\n",
      "Store          363 non-null int64\n",
      "Waste          363 non-null float64\n",
      "Opportunity    363 non-null float64\n",
      "dtypes: float64(2), int64(2)\n",
      "memory usage: 11.4 KB\n"
     ]
    }
   ],
   "source": [
    "DF.info()"
   ]
  },
  {
   "cell_type": "markdown",
   "metadata": {},
   "source": [
    "The data is in a relatively clean state. I have renamed the columns to one word to prevent any problems with Python later in the analysis. \n",
    "\n",
    "I am not satisfied with the format of both Opportunity and Waste, so will round and cast both as an integer."
   ]
  },
  {
   "cell_type": "code",
   "execution_count": 100,
   "metadata": {},
   "outputs": [],
   "source": [
    "DF.Waste=DF.Waste.astype(int)\n",
    "DF.Opportunity=DF.Opportunity.astype(int)\n",
    "\n",
    "# Started the min-max scaler\n",
    "min_max_scaler = MinMaxScaler()\n",
    "\n",
    "# Scaled the opporuntity and waste columns to be within the range of 0 and 1\n",
    "opp_scaled = min_max_scaler.fit_transform(DF.Opportunity.values.astype(float).reshape(-1,1))\n",
    "wst_scaled = min_max_scaler.fit_transform(DF.Waste.values.astype(float).reshape(-1,1))\n",
    "\n",
    "# Replaced previous columns with the normalised ones\n",
    "DF.Opportunity = pd.DataFrame(opp_scaled)\n",
    "DF.Waste = pd.DataFrame(wst_scaled)"
   ]
  },
  {
   "cell_type": "markdown",
   "metadata": {},
   "source": [
    "## Visualising the Data"
   ]
  },
  {
   "cell_type": "code",
   "execution_count": 101,
   "metadata": {},
   "outputs": [
    {
     "data": {
      "text/plain": [
       "<matplotlib.axes._subplots.AxesSubplot at 0xbce64a8>"
      ]
     },
     "execution_count": 101,
     "metadata": {},
     "output_type": "execute_result"
    },
    {
     "data": {
      "image/png": "[encoded data removed]",
      "text/plain": [
       "<Figure size 432x288 with 1 Axes>"
      ]
     },
     "metadata": {
      "needs_background": "light"
     },
     "output_type": "display_data"
    }
   ],
   "source": [
    "DF.plot.scatter(x='Opportunity', y ='Waste')"
   ]
  },
  {
   "cell_type": "markdown",
   "metadata": {},
   "source": [
    "## Applying and Visualising K-means"
   ]
  },
  {
   "cell_type": "code",
   "execution_count": 102,
   "metadata": {},
   "outputs": [
    {
     "data": {
      "text/plain": [
       "KMeans(algorithm='auto', copy_x=True, init='k-means++', max_iter=300,\n",
       "    n_clusters=6, n_init=10, n_jobs=1, precompute_distances='auto',\n",
       "    random_state=None, tol=0.0001, verbose=0)"
      ]
     },
     "execution_count": 102,
     "metadata": {},
     "output_type": "execute_result"
    }
   ],
   "source": [
    "model = KMeans(n_clusters=6)\n",
    "model.fit(scale(data))"
   ]
  },
  {
   "cell_type": "code",
   "execution_count": 103,
   "metadata": {},
   "outputs": [],
   "source": [
    "data = []\n",
    "for index, row in DF.iterrows():\n",
    "    Opportunity = row['Opportunity']\n",
    "    Waste = row['Waste']\n",
    "    data.append( [float(Opportunity), float(Waste)])\n",
    "    \n",
    "model = KMeans(n_clusters=6)\n",
    "model.fit(scale(data))\n",
    "\n",
    "DF['cluster'] = model.labels_.astype(float)"
   ]
  },
  {
   "cell_type": "code",
   "execution_count": 104,
   "metadata": {},
   "outputs": [
    {
     "data": {
      "text/plain": [
       "<matplotlib.legend.Legend at 0xcf58898>"
      ]
     },
     "execution_count": 104,
     "metadata": {},
     "output_type": "execute_result"
    },
    {
     "data": {
      "image/png": "[encoded data removed]",
      "text/plain": [
       "<Figure size 432x288 with 1 Axes>"
      ]
     },
     "metadata": {
      "needs_background": "light"
     },
     "output_type": "display_data"
    }
   ],
   "source": [
    "groups=DF.groupby('cluster')\n",
    "\n",
    "#Plot the clusters!\n",
    "fig, ax = plt.subplots()\n",
    "for name, group in groups:\n",
    "    ax.plot(group.Opportunity, group.Waste, marker='o', linestyle='', label=name)\n",
    "\n",
    "# Add axis labels appropriately\n",
    "plt.xlabel('Opportunity')\n",
    "plt.ylabel('Waste')\n",
    "ax.legend()\n"
   ]
  },
  {
   "cell_type": "markdown",
   "metadata": {},
   "source": [
    "## Initial Refinement- Elbow Curve"
   ]
  },
  {
   "cell_type": "code",
   "execution_count": 129,
   "metadata": {},
   "outputs": [
    {
     "data": {
      "image/png": "[encoded data removed]",
      "text/plain": [
       "<Figure size 432x288 with 1 Axes>"
      ]
     },
     "metadata": {
      "needs_background": "light"
     },
     "output_type": "display_data"
    }
   ],
   "source": [
    "#Below I have used an elbow curve to determine the number of centroid clusters to use within my K- Mean\n",
    "X = DF[['Opportunity']]\n",
    "Y = DF[['Waste']]\n",
    "\n",
    "# \n",
    "Nc = range(1, 10)\n",
    "kmeans = [KMeans(n_clusters=i) for i in Nc]\n",
    "score = [kmeans[i].fit(Y).score(Y) for i in range(len(kmeans))]\n",
    "plt.plot(Nc,score)\n",
    "plt.xlabel('Number of Clusters')\n",
    "plt.ylabel('Score')\n",
    "plt.title('Elbow Curve')\n",
    "plt.show()\n",
    "    "
   ]
  },
  {
   "cell_type": "markdown",
   "metadata": {},
   "source": [
    "The elbow curve analysis shows that the choosing of six clusters is accurate in this case of this one store. This may change as I add in more stores to the analysis so will consider running further elbow curves. "
   ]
  },
  {
   "cell_type": "markdown",
   "metadata": {},
   "source": [
    "## Investigating the Data\n",
    "\n",
    "Now that i have my clustering analysis for this one store, I will now conduct some analysis on the results. I am using the filtering option to interrogate the different clusters\n",
    "\n",
    "### Cluster 2 \n",
    "\n",
    "This is standalone cluster with only one data point which has the characteristics of low waste and high opportunity. Upon further investigation, on this day, this store suffered a severe power outage, resulting in the store being unable to record waste or sell product to customers. I will catagorise this cluster an an outlier. "
   ]
  },
  {
   "cell_type": "code",
   "execution_count": 106,
   "metadata": {},
   "outputs": [
    {
     "data": {
      "text/html": [
       "<div>\n",
       "<style scoped>\n",
       "    .dataframe tbody tr th:only-of-type {\n",
       "        vertical-align: middle;\n",
       "    }\n",
       "\n",
       "    .dataframe tbody tr th {\n",
       "        vertical-align: top;\n",
       "    }\n",
       "\n",
       "    .dataframe thead th {\n",
       "        text-align: right;\n",
       "    }\n",
       "</style>\n",
       "<table border=\"1\" class=\"dataframe\">\n",
       "  <thead>\n",
       "    <tr style=\"text-align: right;\">\n",
       "      <th></th>\n",
       "      <th>Date</th>\n",
       "      <th>Store</th>\n",
       "      <th>Waste</th>\n",
       "      <th>Opportunity</th>\n",
       "      <th>cluster</th>\n",
       "    </tr>\n",
       "  </thead>\n",
       "  <tbody>\n",
       "    <tr>\n",
       "      <th>7</th>\n",
       "      <td>20180416</td>\n",
       "      <td>438</td>\n",
       "      <td>0.129842</td>\n",
       "      <td>0.269411</td>\n",
       "      <td>2.0</td>\n",
       "    </tr>\n",
       "    <tr>\n",
       "      <th>36</th>\n",
       "      <td>20180515</td>\n",
       "      <td>438</td>\n",
       "      <td>0.179150</td>\n",
       "      <td>0.284195</td>\n",
       "      <td>2.0</td>\n",
       "    </tr>\n",
       "    <tr>\n",
       "      <th>49</th>\n",
       "      <td>20180528</td>\n",
       "      <td>438</td>\n",
       "      <td>0.468083</td>\n",
       "      <td>0.306656</td>\n",
       "      <td>2.0</td>\n",
       "    </tr>\n",
       "    <tr>\n",
       "      <th>99</th>\n",
       "      <td>20180717</td>\n",
       "      <td>438</td>\n",
       "      <td>0.216008</td>\n",
       "      <td>0.398288</td>\n",
       "      <td>2.0</td>\n",
       "    </tr>\n",
       "    <tr>\n",
       "      <th>140</th>\n",
       "      <td>20180827</td>\n",
       "      <td>438</td>\n",
       "      <td>0.322925</td>\n",
       "      <td>0.210588</td>\n",
       "      <td>2.0</td>\n",
       "    </tr>\n",
       "  </tbody>\n",
       "</table>\n",
       "</div>"
      ],
      "text/plain": [
       "         Date  Store     Waste  Opportunity  cluster\n",
       "7    20180416    438  0.129842     0.269411      2.0\n",
       "36   20180515    438  0.179150     0.284195      2.0\n",
       "49   20180528    438  0.468083     0.306656      2.0\n",
       "99   20180717    438  0.216008     0.398288      2.0\n",
       "140  20180827    438  0.322925     0.210588      2.0"
      ]
     },
     "execution_count": 106,
     "metadata": {},
     "output_type": "execute_result"
    }
   ],
   "source": [
    "filteredData = DF[DF['cluster'] == 2]\n",
    "filteredData.head()"
   ]
  },
  {
   "cell_type": "code",
   "execution_count": 107,
   "metadata": {},
   "outputs": [
    {
     "data": {
      "text/html": [
       "<div>\n",
       "<style scoped>\n",
       "    .dataframe tbody tr th:only-of-type {\n",
       "        vertical-align: middle;\n",
       "    }\n",
       "\n",
       "    .dataframe tbody tr th {\n",
       "        vertical-align: top;\n",
       "    }\n",
       "\n",
       "    .dataframe thead th {\n",
       "        text-align: right;\n",
       "    }\n",
       "</style>\n",
       "<table border=\"1\" class=\"dataframe\">\n",
       "  <thead>\n",
       "    <tr style=\"text-align: right;\">\n",
       "      <th></th>\n",
       "      <th>Date</th>\n",
       "      <th>Store</th>\n",
       "      <th>Waste</th>\n",
       "      <th>Opportunity</th>\n",
       "      <th>cluster</th>\n",
       "    </tr>\n",
       "  </thead>\n",
       "  <tbody>\n",
       "    <tr>\n",
       "      <th>63</th>\n",
       "      <td>20180611</td>\n",
       "      <td>438</td>\n",
       "      <td>0.515613</td>\n",
       "      <td>0.073011</td>\n",
       "      <td>4.0</td>\n",
       "    </tr>\n",
       "    <tr>\n",
       "      <th>118</th>\n",
       "      <td>20180805</td>\n",
       "      <td>438</td>\n",
       "      <td>0.500395</td>\n",
       "      <td>0.020129</td>\n",
       "      <td>4.0</td>\n",
       "    </tr>\n",
       "    <tr>\n",
       "      <th>181</th>\n",
       "      <td>20181007</td>\n",
       "      <td>438</td>\n",
       "      <td>0.730336</td>\n",
       "      <td>0.007875</td>\n",
       "      <td>4.0</td>\n",
       "    </tr>\n",
       "    <tr>\n",
       "      <th>182</th>\n",
       "      <td>20181008</td>\n",
       "      <td>438</td>\n",
       "      <td>0.684190</td>\n",
       "      <td>0.213573</td>\n",
       "      <td>4.0</td>\n",
       "    </tr>\n",
       "    <tr>\n",
       "      <th>183</th>\n",
       "      <td>20181009</td>\n",
       "      <td>438</td>\n",
       "      <td>0.643182</td>\n",
       "      <td>0.060757</td>\n",
       "      <td>4.0</td>\n",
       "    </tr>\n",
       "  </tbody>\n",
       "</table>\n",
       "</div>"
      ],
      "text/plain": [
       "         Date  Store     Waste  Opportunity  cluster\n",
       "63   20180611    438  0.515613     0.073011      4.0\n",
       "118  20180805    438  0.500395     0.020129      4.0\n",
       "181  20181007    438  0.730336     0.007875      4.0\n",
       "182  20181008    438  0.684190     0.213573      4.0\n",
       "183  20181009    438  0.643182     0.060757      4.0"
      ]
     },
     "execution_count": 107,
     "metadata": {},
     "output_type": "execute_result"
    }
   ],
   "source": [
    "filteredData2 = DF[DF['cluster'] == 4]\n",
    "filteredData2.head()"
   ]
  },
  {
   "cell_type": "markdown",
   "metadata": {},
   "source": [
    "## Cluster 4\n",
    "\n",
    "Cluster 4 are all data points that occur earlier in the week, i.e. on or before a Wednesday. This cluster has characteristics of high waste and low opportunity, suggesting that sales are low with an overstated inventory of stock.  "
   ]
  },
  {
   "cell_type": "markdown",
   "metadata": {},
   "source": [
    "# Sourcing and importing further data\n",
    "\n",
    "Having successfully analysed one store, I will now use the rand function on Excel to select 50 random stores to perform K Means on using the exact same methodology. I have removed all Outlet stores (they do not sell food product) from the random selection. "
   ]
  },
  {
   "cell_type": "code",
   "execution_count": 108,
   "metadata": {},
   "outputs": [
    {
     "data": {
      "text/html": [
       "<div>\n",
       "<style scoped>\n",
       "    .dataframe tbody tr th:only-of-type {\n",
       "        vertical-align: middle;\n",
       "    }\n",
       "\n",
       "    .dataframe tbody tr th {\n",
       "        vertical-align: top;\n",
       "    }\n",
       "\n",
       "    .dataframe thead th {\n",
       "        text-align: right;\n",
       "    }\n",
       "</style>\n",
       "<table border=\"1\" class=\"dataframe\">\n",
       "  <thead>\n",
       "    <tr style=\"text-align: right;\">\n",
       "      <th></th>\n",
       "      <th>CALENDAR_ID</th>\n",
       "      <th>GEOGRAPHY_ID</th>\n",
       "      <th>LOST_OPP_VALUE_GBP</th>\n",
       "      <th>WASTE_VALUE_GBP</th>\n",
       "    </tr>\n",
       "  </thead>\n",
       "  <tbody>\n",
       "    <tr>\n",
       "      <th>0</th>\n",
       "      <td>20180410</td>\n",
       "      <td>463</td>\n",
       "      <td>1672.90</td>\n",
       "      <td>4450.86</td>\n",
       "    </tr>\n",
       "    <tr>\n",
       "      <th>1</th>\n",
       "      <td>20180411</td>\n",
       "      <td>287</td>\n",
       "      <td>545.63</td>\n",
       "      <td>2365.80</td>\n",
       "    </tr>\n",
       "    <tr>\n",
       "      <th>2</th>\n",
       "      <td>20180411</td>\n",
       "      <td>418</td>\n",
       "      <td>1084.74</td>\n",
       "      <td>3080.43</td>\n",
       "    </tr>\n",
       "    <tr>\n",
       "      <th>3</th>\n",
       "      <td>20180411</td>\n",
       "      <td>439</td>\n",
       "      <td>823.81</td>\n",
       "      <td>2354.67</td>\n",
       "    </tr>\n",
       "    <tr>\n",
       "      <th>4</th>\n",
       "      <td>20180411</td>\n",
       "      <td>6285</td>\n",
       "      <td>1017.50</td>\n",
       "      <td>2381.71</td>\n",
       "    </tr>\n",
       "  </tbody>\n",
       "</table>\n",
       "</div>"
      ],
      "text/plain": [
       "   CALENDAR_ID  GEOGRAPHY_ID  LOST_OPP_VALUE_GBP  WASTE_VALUE_GBP\n",
       "0     20180410           463             1672.90          4450.86\n",
       "1     20180411           287              545.63          2365.80\n",
       "2     20180411           418             1084.74          3080.43\n",
       "3     20180411           439              823.81          2354.67\n",
       "4     20180411          6285             1017.50          2381.71"
      ]
     },
     "execution_count": 108,
     "metadata": {},
     "output_type": "execute_result"
    }
   ],
   "source": [
    "DF2= pd.read_csv(\"Desktop/Decoded Data Sources/Python/50_RANDOM_STORES_NEW.csv\")\n",
    "DF2.head()"
   ]
  },
  {
   "cell_type": "code",
   "execution_count": 109,
   "metadata": {},
   "outputs": [
    {
     "data": {
      "text/html": [
       "<div>\n",
       "<style scoped>\n",
       "    .dataframe tbody tr th:only-of-type {\n",
       "        vertical-align: middle;\n",
       "    }\n",
       "\n",
       "    .dataframe tbody tr th {\n",
       "        vertical-align: top;\n",
       "    }\n",
       "\n",
       "    .dataframe thead th {\n",
       "        text-align: right;\n",
       "    }\n",
       "</style>\n",
       "<table border=\"1\" class=\"dataframe\">\n",
       "  <thead>\n",
       "    <tr style=\"text-align: right;\">\n",
       "      <th></th>\n",
       "      <th>Datex</th>\n",
       "      <th>Storex</th>\n",
       "      <th>Wastex</th>\n",
       "      <th>Opportunityx</th>\n",
       "    </tr>\n",
       "  </thead>\n",
       "  <tbody>\n",
       "    <tr>\n",
       "      <th>0</th>\n",
       "      <td>20180410</td>\n",
       "      <td>463</td>\n",
       "      <td>1672.90</td>\n",
       "      <td>4450.86</td>\n",
       "    </tr>\n",
       "    <tr>\n",
       "      <th>1</th>\n",
       "      <td>20180411</td>\n",
       "      <td>287</td>\n",
       "      <td>545.63</td>\n",
       "      <td>2365.80</td>\n",
       "    </tr>\n",
       "    <tr>\n",
       "      <th>2</th>\n",
       "      <td>20180411</td>\n",
       "      <td>418</td>\n",
       "      <td>1084.74</td>\n",
       "      <td>3080.43</td>\n",
       "    </tr>\n",
       "    <tr>\n",
       "      <th>3</th>\n",
       "      <td>20180411</td>\n",
       "      <td>439</td>\n",
       "      <td>823.81</td>\n",
       "      <td>2354.67</td>\n",
       "    </tr>\n",
       "    <tr>\n",
       "      <th>4</th>\n",
       "      <td>20180411</td>\n",
       "      <td>6285</td>\n",
       "      <td>1017.50</td>\n",
       "      <td>2381.71</td>\n",
       "    </tr>\n",
       "  </tbody>\n",
       "</table>\n",
       "</div>"
      ],
      "text/plain": [
       "      Datex  Storex   Wastex  Opportunityx\n",
       "0  20180410     463  1672.90       4450.86\n",
       "1  20180411     287   545.63       2365.80\n",
       "2  20180411     418  1084.74       3080.43\n",
       "3  20180411     439   823.81       2354.67\n",
       "4  20180411    6285  1017.50       2381.71"
      ]
     },
     "execution_count": 109,
     "metadata": {},
     "output_type": "execute_result"
    }
   ],
   "source": [
    "DF2.columns = ['Datex','Storex','Wastex','Opportunityx']\n",
    "DF2.head()"
   ]
  },
  {
   "cell_type": "code",
   "execution_count": 110,
   "metadata": {},
   "outputs": [
    {
     "data": {
      "text/html": [
       "<div>\n",
       "<style scoped>\n",
       "    .dataframe tbody tr th:only-of-type {\n",
       "        vertical-align: middle;\n",
       "    }\n",
       "\n",
       "    .dataframe tbody tr th {\n",
       "        vertical-align: top;\n",
       "    }\n",
       "\n",
       "    .dataframe thead th {\n",
       "        text-align: right;\n",
       "    }\n",
       "</style>\n",
       "<table border=\"1\" class=\"dataframe\">\n",
       "  <thead>\n",
       "    <tr style=\"text-align: right;\">\n",
       "      <th></th>\n",
       "      <th>Datex</th>\n",
       "      <th>Storex</th>\n",
       "      <th>Wastex</th>\n",
       "      <th>Opportunityx</th>\n",
       "    </tr>\n",
       "  </thead>\n",
       "  <tbody>\n",
       "    <tr>\n",
       "      <th>count</th>\n",
       "      <td>1.687300e+04</td>\n",
       "      <td>16873.000000</td>\n",
       "      <td>16873.000000</td>\n",
       "      <td>16873.000000</td>\n",
       "    </tr>\n",
       "    <tr>\n",
       "      <th>mean</th>\n",
       "      <td>2.018336e+07</td>\n",
       "      <td>2062.047057</td>\n",
       "      <td>1198.962487</td>\n",
       "      <td>2128.638555</td>\n",
       "    </tr>\n",
       "    <tr>\n",
       "      <th>std</th>\n",
       "      <td>4.177331e+03</td>\n",
       "      <td>2388.749043</td>\n",
       "      <td>1084.948942</td>\n",
       "      <td>969.049180</td>\n",
       "    </tr>\n",
       "    <tr>\n",
       "      <th>min</th>\n",
       "      <td>2.018041e+07</td>\n",
       "      <td>63.000000</td>\n",
       "      <td>0.640000</td>\n",
       "      <td>1.000000</td>\n",
       "    </tr>\n",
       "    <tr>\n",
       "      <th>25%</th>\n",
       "      <td>2.018071e+07</td>\n",
       "      <td>463.000000</td>\n",
       "      <td>693.250000</td>\n",
       "      <td>1584.870000</td>\n",
       "    </tr>\n",
       "    <tr>\n",
       "      <th>50%</th>\n",
       "      <td>2.018101e+07</td>\n",
       "      <td>804.000000</td>\n",
       "      <td>967.560000</td>\n",
       "      <td>1982.890000</td>\n",
       "    </tr>\n",
       "    <tr>\n",
       "      <th>75%</th>\n",
       "      <td>2.019011e+07</td>\n",
       "      <td>3981.000000</td>\n",
       "      <td>1400.310000</td>\n",
       "      <td>2469.550000</td>\n",
       "    </tr>\n",
       "    <tr>\n",
       "      <th>max</th>\n",
       "      <td>2.019041e+07</td>\n",
       "      <td>7223.000000</td>\n",
       "      <td>56612.870000</td>\n",
       "      <td>21373.460000</td>\n",
       "    </tr>\n",
       "  </tbody>\n",
       "</table>\n",
       "</div>"
      ],
      "text/plain": [
       "              Datex        Storex        Wastex  Opportunityx\n",
       "count  1.687300e+04  16873.000000  16873.000000  16873.000000\n",
       "mean   2.018336e+07   2062.047057   1198.962487   2128.638555\n",
       "std    4.177331e+03   2388.749043   1084.948942    969.049180\n",
       "min    2.018041e+07     63.000000      0.640000      1.000000\n",
       "25%    2.018071e+07    463.000000    693.250000   1584.870000\n",
       "50%    2.018101e+07    804.000000    967.560000   1982.890000\n",
       "75%    2.019011e+07   3981.000000   1400.310000   2469.550000\n",
       "max    2.019041e+07   7223.000000  56612.870000  21373.460000"
      ]
     },
     "execution_count": 110,
     "metadata": {},
     "output_type": "execute_result"
    }
   ],
   "source": [
    "DF2.describe()"
   ]
  },
  {
   "cell_type": "code",
   "execution_count": 111,
   "metadata": {},
   "outputs": [
    {
     "name": "stdout",
     "output_type": "stream",
     "text": [
      "<class 'pandas.core.frame.DataFrame'>\n",
      "RangeIndex: 16873 entries, 0 to 16872\n",
      "Data columns (total 4 columns):\n",
      "Datex           16873 non-null int64\n",
      "Storex          16873 non-null int64\n",
      "Wastex          16873 non-null float64\n",
      "Opportunityx    16873 non-null float64\n",
      "dtypes: float64(2), int64(2)\n",
      "memory usage: 527.4 KB\n"
     ]
    }
   ],
   "source": [
    "DF2.info()"
   ]
  },
  {
   "cell_type": "code",
   "execution_count": 112,
   "metadata": {
    "scrolled": true
   },
   "outputs": [],
   "source": [
    "DF2.Wastex=DF2.Wastex.astype(int)\n",
    "DF2.Opportunityx=DF2.Opportunityx.astype(int)\n",
    "\n",
    "# Started the min-max scaler from sklearn\n",
    "min_max_scaler = MinMaxScaler()\n",
    "\n",
    "# Scaled the opporuntity and waste columns to be within the range of 0 and 1\n",
    "opp_scaledx = min_max_scaler.fit_transform(DF2.Opportunityx.values.astype(float).reshape(-1,1))\n",
    "wst_scaledx = min_max_scaler.fit_transform(DF2.Wastex.values.astype(float).reshape(-1,1))\n",
    "\n",
    "# Replaced previous columns with the normalized ones\n",
    "DF2.Opportunityx = pd.DataFrame(opp_scaledx)\n",
    "DF2.Wastex = pd.DataFrame(wst_scaledx)"
   ]
  },
  {
   "cell_type": "code",
   "execution_count": 113,
   "metadata": {},
   "outputs": [
    {
     "data": {
      "text/html": [
       "<div>\n",
       "<style scoped>\n",
       "    .dataframe tbody tr th:only-of-type {\n",
       "        vertical-align: middle;\n",
       "    }\n",
       "\n",
       "    .dataframe tbody tr th {\n",
       "        vertical-align: top;\n",
       "    }\n",
       "\n",
       "    .dataframe thead th {\n",
       "        text-align: right;\n",
       "    }\n",
       "</style>\n",
       "<table border=\"1\" class=\"dataframe\">\n",
       "  <thead>\n",
       "    <tr style=\"text-align: right;\">\n",
       "      <th></th>\n",
       "      <th>Datex</th>\n",
       "      <th>Storex</th>\n",
       "      <th>Wastex</th>\n",
       "      <th>Opportunityx</th>\n",
       "    </tr>\n",
       "  </thead>\n",
       "  <tbody>\n",
       "    <tr>\n",
       "      <th>0</th>\n",
       "      <td>20180410</td>\n",
       "      <td>463</td>\n",
       "      <td>0.029534</td>\n",
       "      <td>0.208170</td>\n",
       "    </tr>\n",
       "    <tr>\n",
       "      <th>1</th>\n",
       "      <td>20180411</td>\n",
       "      <td>287</td>\n",
       "      <td>0.009627</td>\n",
       "      <td>0.110612</td>\n",
       "    </tr>\n",
       "    <tr>\n",
       "      <th>2</th>\n",
       "      <td>20180411</td>\n",
       "      <td>418</td>\n",
       "      <td>0.019148</td>\n",
       "      <td>0.144067</td>\n",
       "    </tr>\n",
       "    <tr>\n",
       "      <th>3</th>\n",
       "      <td>20180411</td>\n",
       "      <td>439</td>\n",
       "      <td>0.014538</td>\n",
       "      <td>0.110097</td>\n",
       "    </tr>\n",
       "    <tr>\n",
       "      <th>4</th>\n",
       "      <td>20180411</td>\n",
       "      <td>6285</td>\n",
       "      <td>0.017964</td>\n",
       "      <td>0.111361</td>\n",
       "    </tr>\n",
       "  </tbody>\n",
       "</table>\n",
       "</div>"
      ],
      "text/plain": [
       "      Datex  Storex    Wastex  Opportunityx\n",
       "0  20180410     463  0.029534      0.208170\n",
       "1  20180411     287  0.009627      0.110612\n",
       "2  20180411     418  0.019148      0.144067\n",
       "3  20180411     439  0.014538      0.110097\n",
       "4  20180411    6285  0.017964      0.111361"
      ]
     },
     "execution_count": 113,
     "metadata": {},
     "output_type": "execute_result"
    }
   ],
   "source": [
    "DF2.head()"
   ]
  },
  {
   "cell_type": "code",
   "execution_count": 114,
   "metadata": {
    "scrolled": true
   },
   "outputs": [
    {
     "data": {
      "text/plain": [
       "<matplotlib.axes._subplots.AxesSubplot at 0xcdd95c0>"
      ]
     },
     "execution_count": 114,
     "metadata": {},
     "output_type": "execute_result"
    },
    {
     "data": {
      "image/png": "[encoded data removed]",
      "text/plain": [
       "<Figure size 432x288 with 1 Axes>"
      ]
     },
     "metadata": {
      "needs_background": "light"
     },
     "output_type": "display_data"
    }
   ],
   "source": [
    "DF2.plot.scatter(x='Opportunityx', y ='Wastex')"
   ]
  },
  {
   "cell_type": "code",
   "execution_count": 122,
   "metadata": {},
   "outputs": [
    {
     "data": {
      "text/plain": [
       "KMeans(algorithm='auto', copy_x=True, init='k-means++', max_iter=300,\n",
       "    n_clusters=9, n_init=10, n_jobs=1, precompute_distances='auto',\n",
       "    random_state=None, tol=0.0001, verbose=0)"
      ]
     },
     "execution_count": 122,
     "metadata": {},
     "output_type": "execute_result"
    }
   ],
   "source": [
    "model2 = KMeans(n_clusters=9)\n",
    "model2.fit(scale(data))"
   ]
  },
  {
   "cell_type": "code",
   "execution_count": 123,
   "metadata": {},
   "outputs": [],
   "source": [
    "data = []\n",
    "for index, row in DF2.iterrows():\n",
    "    Opportunityx = row['Opportunityx']\n",
    "    Wastex = row['Wastex']\n",
    "    data.append( [float(Opportunityx), float(Wastex)] )\n",
    "    \n",
    "model2 = KMeans(n_clusters=9)\n",
    "model2.fit(scale(data))\n",
    "\n",
    "DF2['cluster'] = model2.labels_.astype(float)"
   ]
  },
  {
   "cell_type": "code",
   "execution_count": 124,
   "metadata": {},
   "outputs": [
    {
     "data": {
      "text/plain": [
       "<matplotlib.legend.Legend at 0xd2b8e10>"
      ]
     },
     "execution_count": 124,
     "metadata": {},
     "output_type": "execute_result"
    },
    {
     "data": {
      "image/png": "[encoded data removed]",
      "text/plain": [
       "<Figure size 432x288 with 1 Axes>"
      ]
     },
     "metadata": {
      "needs_background": "light"
     },
     "output_type": "display_data"
    }
   ],
   "source": [
    "groups=DF2.groupby('cluster')\n",
    "\n",
    "fig, ax = plt.subplots()\n",
    "for name, group in groups:\n",
    "    ax.plot(group.Opportunityx, group.Wastex, marker='o', linestyle='', label=name)\n",
    "\n",
    "plt.xlabel('Opportunityx')\n",
    "plt.ylabel('Wastex')\n",
    "ax.legend()"
   ]
  },
  {
   "cell_type": "code",
   "execution_count": 127,
   "metadata": {},
   "outputs": [
    {
     "data": {
      "image/png": "[encoded data removed]",
      "text/plain": [
       "<Figure size 432x288 with 1 Axes>"
      ]
     },
     "metadata": {
      "needs_background": "light"
     },
     "output_type": "display_data"
    }
   ],
   "source": [
    "X = DF2[['Opportunityx']]\n",
    "Y = DF2[['Wastex']]\n",
    " \n",
    "Nc = range(1, 10)\n",
    "kmeans = [KMeans(n_clusters=i) for i in Nc]\n",
    "score = [kmeans[i].fit(Y).score(Y) for i in range(len(kmeans))]\n",
    "plt.plot(Nc,score)\n",
    "plt.xlabel('Number of Clusters')\n",
    "plt.ylabel('Score')\n",
    "plt.title('Elbow Curve')\n",
    "plt.show()"
   ]
  },
  {
   "cell_type": "markdown",
   "metadata": {},
   "source": [
    "# Investigating the Data 2 "
   ]
  },
  {
   "cell_type": "code",
   "execution_count": 128,
   "metadata": {},
   "outputs": [
    {
     "data": {
      "text/html": [
       "<div>\n",
       "<style scoped>\n",
       "    .dataframe tbody tr th:only-of-type {\n",
       "        vertical-align: middle;\n",
       "    }\n",
       "\n",
       "    .dataframe tbody tr th {\n",
       "        vertical-align: top;\n",
       "    }\n",
       "\n",
       "    .dataframe thead th {\n",
       "        text-align: right;\n",
       "    }\n",
       "</style>\n",
       "<table border=\"1\" class=\"dataframe\">\n",
       "  <thead>\n",
       "    <tr style=\"text-align: right;\">\n",
       "      <th></th>\n",
       "      <th>Datex</th>\n",
       "      <th>Storex</th>\n",
       "      <th>Wastex</th>\n",
       "      <th>Opportunityx</th>\n",
       "      <th>cluster</th>\n",
       "    </tr>\n",
       "  </thead>\n",
       "  <tbody>\n",
       "    <tr>\n",
       "      <th>16767</th>\n",
       "      <td>20190315</td>\n",
       "      <td>287</td>\n",
       "      <td>1.0</td>\n",
       "      <td>0.0</td>\n",
       "      <td>8.0</td>\n",
       "    </tr>\n",
       "  </tbody>\n",
       "</table>\n",
       "</div>"
      ],
      "text/plain": [
       "          Datex  Storex  Wastex  Opportunityx  cluster\n",
       "16767  20190315     287     1.0           0.0      8.0"
      ]
     },
     "execution_count": 128,
     "metadata": {},
     "output_type": "execute_result"
    }
   ],
   "source": [
    "filteredData3 = DF2[DF2['cluster'] == 8]\n",
    "filteredData3.head()"
   ]
  }
 ],
 "metadata": {
  "kernelspec": {
   "display_name": "Python 3",
   "language": "python",
   "name": "python3"
  },
  "language_info": {
   "codemirror_mode": {
    "name": "ipython",
    "version": 3
   },
   "file_extension": ".py",
   "mimetype": "text/x-python",
   "name": "python",
   "nbconvert_exporter": "python",
   "pygments_lexer": "ipython3",
   "version": "3.7.0"
  }
 },
 "nbformat": 4,
 "nbformat_minor": 2
}
