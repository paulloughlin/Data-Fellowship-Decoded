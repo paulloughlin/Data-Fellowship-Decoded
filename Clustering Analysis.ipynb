{
 "cells": [
  {
   "cell_type": "markdown",
   "metadata": {},
   "source": [
    "# Clustering Analysis: K Means\n",
    "\n",
    "Quintessentially, the relationship between sales opportunity and reducing waste is a crucial deterministic factor in delivering profit. \n",
    "An ideal model for M&S is for all products across all stores to deliver maximum sales potential with low waste generated.  Whilst this is a simple and neat statement, however, in reality, delivering such a model is problematic and complex. This analysis will explore this relationship.\n",
    "\n",
    "### Framing the Data Question \n",
    "Explore and determine commonality clustering between lost sales opportunity and waste across a 12 month period by day, store, SPC using K- Means\n",
    "\n",
    "\n",
    "### Metrics\n",
    "\n",
    "-  Lost Sales Opportunity- Calculated using demand forecast and sales profile, extrapolated from the last sale of the product. This will be displayed in £GBP and will be aggregated appropriately. \n",
    "\n",
    "-  Waste- This is on shelf value of a product (£GBP) that has been declared as waste product as it is either due to expire beyond its lifespan or has already expired. In the instance of the former, there is an instore process to recover sales from this product through applying a reduction to the product’s price. In the latter, the product is immediately disposed of. \n",
    "\n",
    "### Domain knowledge expectations\n",
    "\n",
    "Before sourcing and exploring the data, below are some expectations and considerations that may could occur: \n",
    "-\t Seasonality and the impact of weather \n",
    "-\tDespite a prescript set of store processes, delivery will differ from store to store\n",
    "-\tM&S reliance on eventing periods i.e. Christmas could skew results \n",
    "\n",
    "\n",
    "### Contents\n",
    "\n",
    "-  [Importing the libraries](#Importing-the-libraries)\n",
    "-  [Sourcing and importing the data](#Sourcing-and-importing-the-data)\n",
    "-  [Visualising the data](#Visualising-the-Data)\n",
    "-  [Initial Refinement- Elbow Curve](#Initial-Refinement--Elbow-Curve)\n",
    "- [Applying and Visualising K-means](#Applying-and-Visualising-K-means)\n"
   ]
  },
  {
   "cell_type": "markdown",
   "metadata": {},
   "source": [
    "## Importing the libraries"
   ]
  },
  {
   "cell_type": "code",
   "execution_count": 79,
   "metadata": {},
   "outputs": [],
   "source": [
    "import pandas as pd\n",
    "import matplotlib.pyplot as plt\n",
    "from sklearn.preprocessing import scale\n",
    "from sklearn.cluster import KMeans\n",
    "%matplotlib inline\n",
    "from datetime import datetime"
   ]
  },
  {
   "cell_type": "markdown",
   "metadata": {},
   "source": [
    "## Sourcing and importing the data\n",
    "\n",
    "The data required has been sourced from existing M&S approved data sources and was extracted using the Tibco Spotfire tool.\n",
    "\n",
    "Before bringing the data into Jupyter, initial inspections revealed that there are 40 million rows of data, as the exract covers 363 days and the entire main chain estate. With this considered, I will begin the analysis with one store and then build up to include more\n",
    "\n",
    "Data Integrity- No customer or personal information is held in this data extract "
   ]
  },
  {
   "cell_type": "code",
   "execution_count": 80,
   "metadata": {},
   "outputs": [
    {
     "data": {
      "text/html": [
       "<div>\n",
       "<style scoped>\n",
       "    .dataframe tbody tr th:only-of-type {\n",
       "        vertical-align: middle;\n",
       "    }\n",
       "\n",
       "    .dataframe tbody tr th {\n",
       "        vertical-align: top;\n",
       "    }\n",
       "\n",
       "    .dataframe thead th {\n",
       "        text-align: right;\n",
       "    }\n",
       "</style>\n",
       "<table border=\"1\" class=\"dataframe\">\n",
       "  <thead>\n",
       "    <tr style=\"text-align: right;\">\n",
       "      <th></th>\n",
       "      <th>CALENDAR_ID</th>\n",
       "      <th>GEOGRAPHY_ID</th>\n",
       "      <th>Sum(WASTE_VALUE_GBP)</th>\n",
       "      <th>Sum(Lost Opp &gt;0)</th>\n",
       "    </tr>\n",
       "  </thead>\n",
       "  <tbody>\n",
       "    <tr>\n",
       "      <th>0</th>\n",
       "      <td>20180409</td>\n",
       "      <td>438</td>\n",
       "      <td>5150.87</td>\n",
       "      <td>2980.37</td>\n",
       "    </tr>\n",
       "    <tr>\n",
       "      <th>1</th>\n",
       "      <td>20180410</td>\n",
       "      <td>438</td>\n",
       "      <td>4577.15</td>\n",
       "      <td>3612.02</td>\n",
       "    </tr>\n",
       "    <tr>\n",
       "      <th>2</th>\n",
       "      <td>20180411</td>\n",
       "      <td>438</td>\n",
       "      <td>4976.61</td>\n",
       "      <td>2582.13</td>\n",
       "    </tr>\n",
       "    <tr>\n",
       "      <th>3</th>\n",
       "      <td>20180412</td>\n",
       "      <td>438</td>\n",
       "      <td>3680.91</td>\n",
       "      <td>2912.13</td>\n",
       "    </tr>\n",
       "    <tr>\n",
       "      <th>4</th>\n",
       "      <td>20180413</td>\n",
       "      <td>438</td>\n",
       "      <td>3250.87</td>\n",
       "      <td>3400.23</td>\n",
       "    </tr>\n",
       "  </tbody>\n",
       "</table>\n",
       "</div>"
      ],
      "text/plain": [
       "   CALENDAR_ID  GEOGRAPHY_ID  Sum(WASTE_VALUE_GBP)  Sum(Lost Opp >0)\n",
       "0     20180409           438               5150.87           2980.37\n",
       "1     20180410           438               4577.15           3612.02\n",
       "2     20180411           438               4976.61           2582.13\n",
       "3     20180412           438               3680.91           2912.13\n",
       "4     20180413           438               3250.87           3400.23"
      ]
     },
     "execution_count": 80,
     "metadata": {},
     "output_type": "execute_result"
    }
   ],
   "source": [
    "DF= pd.read_csv(\"Desktop/Decoded Data Sources/Python/Cluster.csv\")\n",
    "DF.head()"
   ]
  },
  {
   "cell_type": "code",
   "execution_count": 81,
   "metadata": {},
   "outputs": [
    {
     "data": {
      "text/plain": [
       "Index(['CALENDAR_ID', 'GEOGRAPHY_ID', 'Sum(WASTE_VALUE_GBP)',\n",
       "       'Sum(Lost Opp >0)'],\n",
       "      dtype='object')"
      ]
     },
     "execution_count": 81,
     "metadata": {},
     "output_type": "execute_result"
    }
   ],
   "source": [
    "DF.columns"
   ]
  },
  {
   "cell_type": "markdown",
   "metadata": {},
   "source": [
    "There are four columns with the data frame\n",
    "\n",
    "-  CALENDAR_ID- The date\n",
    "-  GEOGRAPHY_ ID- The Store\n",
    "-  Sum(WASTE_VALUE_GBP)- Waste \n",
    "-  Sum(Lost Opp >0)-Opportunity"
   ]
  },
  {
   "cell_type": "code",
   "execution_count": 82,
   "metadata": {},
   "outputs": [
    {
     "data": {
      "text/html": [
       "<div>\n",
       "<style scoped>\n",
       "    .dataframe tbody tr th:only-of-type {\n",
       "        vertical-align: middle;\n",
       "    }\n",
       "\n",
       "    .dataframe tbody tr th {\n",
       "        vertical-align: top;\n",
       "    }\n",
       "\n",
       "    .dataframe thead th {\n",
       "        text-align: right;\n",
       "    }\n",
       "</style>\n",
       "<table border=\"1\" class=\"dataframe\">\n",
       "  <thead>\n",
       "    <tr style=\"text-align: right;\">\n",
       "      <th></th>\n",
       "      <th>Date</th>\n",
       "      <th>Store</th>\n",
       "      <th>Waste</th>\n",
       "      <th>Opportunity</th>\n",
       "    </tr>\n",
       "  </thead>\n",
       "  <tbody>\n",
       "    <tr>\n",
       "      <th>0</th>\n",
       "      <td>20180409</td>\n",
       "      <td>438</td>\n",
       "      <td>5150.87</td>\n",
       "      <td>2980.37</td>\n",
       "    </tr>\n",
       "    <tr>\n",
       "      <th>1</th>\n",
       "      <td>20180410</td>\n",
       "      <td>438</td>\n",
       "      <td>4577.15</td>\n",
       "      <td>3612.02</td>\n",
       "    </tr>\n",
       "    <tr>\n",
       "      <th>2</th>\n",
       "      <td>20180411</td>\n",
       "      <td>438</td>\n",
       "      <td>4976.61</td>\n",
       "      <td>2582.13</td>\n",
       "    </tr>\n",
       "    <tr>\n",
       "      <th>3</th>\n",
       "      <td>20180412</td>\n",
       "      <td>438</td>\n",
       "      <td>3680.91</td>\n",
       "      <td>2912.13</td>\n",
       "    </tr>\n",
       "    <tr>\n",
       "      <th>4</th>\n",
       "      <td>20180413</td>\n",
       "      <td>438</td>\n",
       "      <td>3250.87</td>\n",
       "      <td>3400.23</td>\n",
       "    </tr>\n",
       "  </tbody>\n",
       "</table>\n",
       "</div>"
      ],
      "text/plain": [
       "       Date  Store    Waste  Opportunity\n",
       "0  20180409    438  5150.87      2980.37\n",
       "1  20180410    438  4577.15      3612.02\n",
       "2  20180411    438  4976.61      2582.13\n",
       "3  20180412    438  3680.91      2912.13\n",
       "4  20180413    438  3250.87      3400.23"
      ]
     },
     "execution_count": 82,
     "metadata": {},
     "output_type": "execute_result"
    }
   ],
   "source": [
    "DF.columns = ['Date','Store','Waste','Opportunity']\n",
    "DF.head()"
   ]
  },
  {
   "cell_type": "code",
   "execution_count": 83,
   "metadata": {},
   "outputs": [
    {
     "data": {
      "text/plain": [
       "Index(['Date', 'Store', 'Waste', 'Opportunity'], dtype='object')"
      ]
     },
     "execution_count": 83,
     "metadata": {},
     "output_type": "execute_result"
    }
   ],
   "source": [
    "DF.columns"
   ]
  },
  {
   "cell_type": "code",
   "execution_count": 84,
   "metadata": {},
   "outputs": [
    {
     "name": "stdout",
     "output_type": "stream",
     "text": [
      "<class 'pandas.core.frame.DataFrame'>\n",
      "RangeIndex: 363 entries, 0 to 362\n",
      "Data columns (total 4 columns):\n",
      "Date           363 non-null int64\n",
      "Store          363 non-null int64\n",
      "Waste          363 non-null float64\n",
      "Opportunity    363 non-null float64\n",
      "dtypes: float64(2), int64(2)\n",
      "memory usage: 11.4 KB\n"
     ]
    }
   ],
   "source": [
    "DF.info()"
   ]
  },
  {
   "cell_type": "markdown",
   "metadata": {},
   "source": [
    "The data is in a relatively clean state. I have renamed the columns to one word to prevent any problems with Python later in the analysis. \n",
    "\n",
    "I am not satisfied with the format of both Opportunity and Waste, so will round and cast both as an integer."
   ]
  },
  {
   "cell_type": "code",
   "execution_count": 93,
   "metadata": {},
   "outputs": [],
   "source": [
    "DF.Waste=round(DF.Waste)\n",
    "DF.Opportunity=round(DF.Opportunity)"
   ]
  },
  {
   "cell_type": "code",
   "execution_count": 94,
   "metadata": {},
   "outputs": [
    {
     "data": {
      "text/html": [
       "<div>\n",
       "<style scoped>\n",
       "    .dataframe tbody tr th:only-of-type {\n",
       "        vertical-align: middle;\n",
       "    }\n",
       "\n",
       "    .dataframe tbody tr th {\n",
       "        vertical-align: top;\n",
       "    }\n",
       "\n",
       "    .dataframe thead th {\n",
       "        text-align: right;\n",
       "    }\n",
       "</style>\n",
       "<table border=\"1\" class=\"dataframe\">\n",
       "  <thead>\n",
       "    <tr style=\"text-align: right;\">\n",
       "      <th></th>\n",
       "      <th>Date</th>\n",
       "      <th>Store</th>\n",
       "      <th>Waste</th>\n",
       "      <th>Opportunity</th>\n",
       "      <th>Cluster</th>\n",
       "      <th>cluster</th>\n",
       "    </tr>\n",
       "  </thead>\n",
       "  <tbody>\n",
       "    <tr>\n",
       "      <th>0</th>\n",
       "      <td>20180409</td>\n",
       "      <td>438</td>\n",
       "      <td>5151</td>\n",
       "      <td>2980</td>\n",
       "      <td>5</td>\n",
       "      <td>1.0</td>\n",
       "    </tr>\n",
       "    <tr>\n",
       "      <th>1</th>\n",
       "      <td>20180410</td>\n",
       "      <td>438</td>\n",
       "      <td>4577</td>\n",
       "      <td>3612</td>\n",
       "      <td>0</td>\n",
       "      <td>1.0</td>\n",
       "    </tr>\n",
       "    <tr>\n",
       "      <th>2</th>\n",
       "      <td>20180411</td>\n",
       "      <td>438</td>\n",
       "      <td>4977</td>\n",
       "      <td>2582</td>\n",
       "      <td>5</td>\n",
       "      <td>1.0</td>\n",
       "    </tr>\n",
       "    <tr>\n",
       "      <th>3</th>\n",
       "      <td>20180412</td>\n",
       "      <td>438</td>\n",
       "      <td>3681</td>\n",
       "      <td>2912</td>\n",
       "      <td>0</td>\n",
       "      <td>0.0</td>\n",
       "    </tr>\n",
       "    <tr>\n",
       "      <th>4</th>\n",
       "      <td>20180413</td>\n",
       "      <td>438</td>\n",
       "      <td>3251</td>\n",
       "      <td>3400</td>\n",
       "      <td>0</td>\n",
       "      <td>0.0</td>\n",
       "    </tr>\n",
       "  </tbody>\n",
       "</table>\n",
       "</div>"
      ],
      "text/plain": [
       "       Date  Store  Waste  Opportunity  Cluster  cluster\n",
       "0  20180409    438   5151         2980        5      1.0\n",
       "1  20180410    438   4577         3612        0      1.0\n",
       "2  20180411    438   4977         2582        5      1.0\n",
       "3  20180412    438   3681         2912        0      0.0\n",
       "4  20180413    438   3251         3400        0      0.0"
      ]
     },
     "execution_count": 94,
     "metadata": {},
     "output_type": "execute_result"
    }
   ],
   "source": [
    "DF.Waste=DF.Waste.astype(int)\n",
    "DF.Opportunity=DF.Opportunity.astype(int)\n",
    "DF.head()"
   ]
  },
  {
   "cell_type": "markdown",
   "metadata": {},
   "source": [
    "## Visualising the Data\n"
   ]
  },
  {
   "cell_type": "code",
   "execution_count": 87,
   "metadata": {},
   "outputs": [
    {
     "data": {
      "text/plain": [
       "<matplotlib.axes._subplots.AxesSubplot at 0xbf099e8>"
      ]
     },
     "execution_count": 87,
     "metadata": {},
     "output_type": "execute_result"
    },
    {
     "data": {
      "image/png": "[encoded data removed]",
      "text/plain": [
       "<Figure size 432x288 with 1 Axes>"
      ]
     },
     "metadata": {
      "needs_background": "light"
     },
     "output_type": "display_data"
    }
   ],
   "source": [
    "DF.plot.scatter(x ='Opportunity', y ='Waste')\n"
   ]
  },
  {
   "cell_type": "markdown",
   "metadata": {},
   "source": [
    "## Applying and Visualising K-means"
   ]
  },
  {
   "cell_type": "code",
   "execution_count": 88,
   "metadata": {},
   "outputs": [
    {
     "data": {
      "text/plain": [
       "KMeans(algorithm='auto', copy_x=True, init='k-means++', max_iter=300,\n",
       "    n_clusters=6, n_init=10, n_jobs=1, precompute_distances='auto',\n",
       "    random_state=None, tol=0.0001, verbose=0)"
      ]
     },
     "execution_count": 88,
     "metadata": {},
     "output_type": "execute_result"
    }
   ],
   "source": [
    "model = KMeans(n_clusters=6)\n",
    "model.fit(scale(DF))"
   ]
  },
  {
   "cell_type": "code",
   "execution_count": 89,
   "metadata": {},
   "outputs": [],
   "source": [
    "DF['Cluster']=model.labels_"
   ]
  },
  {
   "cell_type": "code",
   "execution_count": 90,
   "metadata": {},
   "outputs": [],
   "source": [
    "data = []\n",
    "for index, row in DF.iterrows():\n",
    "    Opportunity = row['Opportunity']\n",
    "    Waste = row['Waste']\n",
    "    data.append( [float(Opportunity), float(Waste)] )\n",
    "    \n",
    "model = KMeans(n_clusters=6)\n",
    "model.fit(scale(data))\n",
    "\n",
    "DF['cluster'] = model.labels_.astype(float)"
   ]
  },
  {
   "cell_type": "code",
   "execution_count": 91,
   "metadata": {},
   "outputs": [
    {
     "data": {
      "text/plain": [
       "<matplotlib.legend.Legend at 0xbeab710>"
      ]
     },
     "execution_count": 91,
     "metadata": {},
     "output_type": "execute_result"
    },
    {
     "data": {
      "image/png": "[encoded data removed]",
      "text/plain": [
       "<Figure size 432x288 with 1 Axes>"
      ]
     },
     "metadata": {
      "needs_background": "light"
     },
     "output_type": "display_data"
    }
   ],
   "source": [
    "groups=DF.groupby('cluster')\n",
    "\n",
    "#Plot the clusters!\n",
    "fig, ax = plt.subplots()\n",
    "for name, group in groups:\n",
    "    ax.plot(group.Opportunity, group.Waste, marker='o', linestyle='', label=name)\n",
    "\n",
    "# Add axis labels appropriately\n",
    "plt.xlabel('Opportunity')\n",
    "plt.ylabel('Waste')\n",
    "ax.legend()\n"
   ]
  },
  {
   "cell_type": "markdown",
   "metadata": {},
   "source": [
    "## Initial Refinement- Elbow Curve\n",
    "\n",
    "Below I have used an elbow curve to determine the number of centroid clusters to use within my K- Means"
   ]
  },
  {
   "cell_type": "code",
   "execution_count": 92,
   "metadata": {},
   "outputs": [
    {
     "data": {
      "image/png": "[encoded data removed]",
      "text/plain": [
       "<Figure size 432x288 with 1 Axes>"
      ]
     },
     "metadata": {
      "needs_background": "light"
     },
     "output_type": "display_data"
    }
   ],
   "source": [
    "X = DF[['Opportunity']]\n",
    "Y = DF[['Waste']]\n",
    "\n",
    "# \n",
    "Nc = range(1, 10)\n",
    "kmeans = [KMeans(n_clusters=i) for i in Nc]\n",
    "score = [kmeans[i].fit(Y).score(Y) for i in range(len(kmeans))]\n",
    "plt.plot(Nc,score)\n",
    "plt.xlabel('Number of Clusters')\n",
    "plt.ylabel('Score')\n",
    "plt.title('Elbow Curve')\n",
    "plt.show()\n",
    "    "
   ]
  },
  {
   "cell_type": "markdown",
   "metadata": {},
   "source": [
    "The elbow curve analysis shows that the choosing of six clusters is accurate in this case of this one store. This may change as I add in more stores to the analysis so will consider running further elbow curves. "
   ]
  },
  {
   "cell_type": "markdown",
   "metadata": {},
   "source": [
    "## Investigating the Data\n",
    "\n",
    "Now that i have my clustering analysis for this one store, I will now conduct some analysis on the results. I am using the filtering option to interrogate the different clusters\n",
    "\n",
    "### Cluster 2 \n",
    "\n",
    "This is standalone cluster with only one data point which has the characteristics of low waste and high opportunity. Upon further investigation, on this day, this store suffered a severe power outage, resulting in the store being unable to record waste or sell product to customers. I will catagorise this cluster an an outlier. "
   ]
  },
  {
   "cell_type": "code",
   "execution_count": 98,
   "metadata": {},
   "outputs": [
    {
     "data": {
      "text/html": [
       "<div>\n",
       "<style scoped>\n",
       "    .dataframe tbody tr th:only-of-type {\n",
       "        vertical-align: middle;\n",
       "    }\n",
       "\n",
       "    .dataframe tbody tr th {\n",
       "        vertical-align: top;\n",
       "    }\n",
       "\n",
       "    .dataframe thead th {\n",
       "        text-align: right;\n",
       "    }\n",
       "</style>\n",
       "<table border=\"1\" class=\"dataframe\">\n",
       "  <thead>\n",
       "    <tr style=\"text-align: right;\">\n",
       "      <th></th>\n",
       "      <th>Date</th>\n",
       "      <th>Store</th>\n",
       "      <th>Waste</th>\n",
       "      <th>Opportunity</th>\n",
       "      <th>Cluster</th>\n",
       "      <th>cluster</th>\n",
       "    </tr>\n",
       "  </thead>\n",
       "  <tbody>\n",
       "    <tr>\n",
       "      <th>197</th>\n",
       "      <td>20181023</td>\n",
       "      <td>438</td>\n",
       "      <td>3078</td>\n",
       "      <td>36097</td>\n",
       "      <td>3</td>\n",
       "      <td>2.0</td>\n",
       "    </tr>\n",
       "  </tbody>\n",
       "</table>\n",
       "</div>"
      ],
      "text/plain": [
       "         Date  Store  Waste  Opportunity  Cluster  cluster\n",
       "197  20181023    438   3078        36097        3      2.0"
      ]
     },
     "execution_count": 98,
     "metadata": {},
     "output_type": "execute_result"
    }
   ],
   "source": [
    "filteredData = DF[DF['cluster'] == 2]\n",
    "filteredData.head()"
   ]
  },
  {
   "cell_type": "code",
   "execution_count": 101,
   "metadata": {},
   "outputs": [
    {
     "data": {
      "text/plain": [
       "<bound method NDFrame.head of          Date  Store  Waste  Opportunity  Cluster  cluster\n",
       "7    20180416    438   3336        10400        4      4.0\n",
       "36   20180515    438   3834        10920        4      4.0\n",
       "49   20180528    438   6758        11710        4      4.0\n",
       "99   20180717    438   4208        14933        4      4.0\n",
       "140  20180827    438   5290         8331        4      4.0\n",
       "259  20181224    438   4621         9192        4      4.0\n",
       "314  20190219    438   5464         8570        4      4.0>"
      ]
     },
     "execution_count": 101,
     "metadata": {},
     "output_type": "execute_result"
    }
   ],
   "source": [
    "filteredData = DF[DF['cluster'] == 4]\n",
    "filteredData.head\n"
   ]
  },
  {
   "cell_type": "markdown",
   "metadata": {},
   "source": [
    "### Cluster 4\n",
    "\n",
    "Cluster 4 are all data points that occur earlier in the week, i.e. on or before a Wednesday. This cluster has characteristics of high waste and low opportunity, suggesting that sales are low with an overstated inventory of stock.  "
   ]
  },
  {
   "cell_type": "markdown",
   "metadata": {},
   "source": [
    "# Sourcing and importing further data\n",
    "\n",
    "Having successfully analysed one store, I will now read in a full region of stores (22) and conduct another kMeans analysis. "
   ]
  },
  {
   "cell_type": "code",
   "execution_count": null,
   "metadata": {},
   "outputs": [],
   "source": []
  },
  {
   "cell_type": "code",
   "execution_count": null,
   "metadata": {},
   "outputs": [],
   "source": []
  },
  {
   "cell_type": "code",
   "execution_count": null,
   "metadata": {},
   "outputs": [],
   "source": []
  }
 ],
 "metadata": {
  "kernelspec": {
   "display_name": "Python 3",
   "language": "python",
   "name": "python3"
  },
  "language_info": {
   "codemirror_mode": {
    "name": "ipython",
    "version": 3
   },
   "file_extension": ".py",
   "mimetype": "text/x-python",
   "name": "python",
   "nbconvert_exporter": "python",
   "pygments_lexer": "ipython3",
   "version": "3.7.0"
  }
 },
 "nbformat": 4,
 "nbformat_minor": 2
}
