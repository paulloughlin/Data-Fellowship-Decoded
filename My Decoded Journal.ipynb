{
 "cells": [
  {
   "cell_type": "markdown",
   "metadata": {},
   "source": [
    "# My Decoded Journal"
   ]
  },
  {
   "cell_type": "markdown",
   "metadata": {},
   "source": [
    "\n",
    "<style>\n",
    "body {\n",
    "    font-family: \"Calibri\", cursive, sans-serif;\n",
    "}\n",
    "</style>"
   ]
  },
  {
   "cell_type": "markdown",
   "metadata": {},
   "source": [
    "This is my Decoded Journal. Throughout my journey with the M&S Data Academy, I will use Jupyter Notebook to document and publish (via Github) my thoughts, achievements and milestones individually and with my cohort.\n",
    "\n",
    "I will also use the medium to practice my Jupyter markdown code. \n",
    "\n",
    "### Useful Links\n",
    "\n",
    "[Markdown Cheat Sheet](https://medium.com/ibm-data-science-experience/markdown-for-jupyter-notebooks-cheatsheet-386c05aeebed)\n",
    "\n",
    "[Automate the boring stuff](https://automatetheboringstuff.com/)\n",
    "\n",
    "\n",
    "### Diary Entries\n",
    "\n",
    "-  [1st December 2018](#1st-December-2018)\n",
    "-  [15th December 2018](#13th-April-2019)\n",
    "-  [12th January 2019](#12th-January-2019)\n",
    "-  [26th January 2019](#26th-January-2019)\n",
    "-  [9th February 2019](#9th-February-2019)\n",
    "-  [23rd February 2019](#23th-February-2019)\n",
    "-  [9th March 2019](#9th-March-2019)\n",
    "-  [23rd March 2019](#23rd-March-2019)\n",
    "-  [13th April 2019](#13th-April-2019)\n",
    "-  [27th April 2019](#27th-April-2019)\n",
    "-  [11th May 2019](#11th-May-2019)\n",
    "-  [25th May 2019](#25th-May-2019)\n",
    "-  [8th June 2019](#8th-June-2019)\n",
    "-  [22nd June 2019](#22nd-June-2019)"
   ]
  },
  {
   "cell_type": "markdown",
   "metadata": {},
   "source": [
    "## 1st December 2018\n",
    "\n",
    "\n",
    "Completed GIT and introduction to statistics on the part that I start a new role as a lead analyst within our Food Group next week. \n",
    "I found the 'introduction to statistics' much more engaging that the github lessons (this doesn't include the two hour session we had- that was very good). The content was all familiar, but I enjoyed the different ways of thinking and the tasks for completion.  I think all the content is relevant to everyone's role in M&S, as it will assist greatly with improving statistical and analytical rigour across all ways of working. \n",
    "I've begun the second part and feel like I will really enjoy it due to the diverse topics that have already been discussed. \n",
    "\n",
    "Data Academy Launch: 29th October\n",
    "Git and Git Hub\n",
    "\n",
    "\n",
    "\n",
    "__[Further Git learnings](https://try.github.io/)__"
   ]
  },
  {
   "cell_type": "markdown",
   "metadata": {},
   "source": [
    "## 15th December 2018\n",
    "\n",
    "•\tCompleted GIT and introduction to statistics on the part that I start a new role as a lead analyst within our Food Group next week. \n",
    "•\tI found the 'introduction to statistics' much more engaging that the github lessons (this doesn't include the two hour session we had- that was very good). The content was all familiar, but I enjoyed the different ways of thinking and the tasks for completion.  I think all the content is relevant to everyone's role in M&S, as it will assist greatly with improving statistical and analytical rigour across all ways of working. \n",
    "•\tI've begun the second part and feel like I will really enjoy it due to the diverse topics that have already been discussed. \n"
   ]
  },
  {
   "cell_type": "markdown",
   "metadata": {},
   "source": [
    "## 12th January 2019"
   ]
  },
  {
   "cell_type": "markdown",
   "metadata": {},
   "source": [
    "## 26th January 2019\n",
    "\n",
    "\n",
    "\n",
    "Having had a hectic couple of weeks due to an increased intensity of requirements in my new role in Food Analytics and lot of deadlines of the aforementioned requirements have now passed thus, I have had a chance to work through the introduction to Python module this week. Having had minor experience to Python through Spyder, the introductory techniques are familiar. I am looking forward to building more tangible work examples using Python.\n",
    "\n",
    "Working collaboratively with the data science resource within Food Analytics, we have embarked on a project which is using a random forest model trained to identify key characteristics and variables of new Market Place Hospitality locations within the M&S estate. \n",
    "\n",
    "It’s a great learning curve and really compliments the data academy modules.\n",
    "On Monday (28/01) I am presenting to our Senior Leadership Group to showcase the Data Academy thus far. Exciting! \n",
    "\n",
    "### What requires focus and progress (the week ahead) \n",
    "\n",
    "-  Finish all Python Modules\n",
    "-  Check in with buddy\n",
    "                             \n"
   ]
  },
  {
   "cell_type": "markdown",
   "metadata": {},
   "source": [
    "## 9th February 2019\n",
    "\n",
    "- This week, I completed the introduction to programming workshop. Coupled with the online training, this was a great exercise for understanding the fundamentals of Python and beginning my journey with writing code in Python. "
   ]
  },
  {
   "cell_type": "markdown",
   "metadata": {},
   "source": [
    "## 23rd February 2019\n",
    "\n",
    "This week I completed the Data Science in Day course in Shoreditch. I found the course particularly useful as it helped to bring together the concepts of previous learnings from the foundation sprint. Our Food Group data science team ran a session on Manipulating Data in Python Using the Pandas Package which was great for reinforcement for what I learnt on Jupyter notebooks. Next week I plan to tie up any lose ends from the foundations sprint, but reviewing each week’s content and set myself up for success for the official kick off. "
   ]
  },
  {
   "cell_type": "markdown",
   "metadata": {},
   "source": [
    "## 9th March 2019"
   ]
  },
  {
   "cell_type": "markdown",
   "metadata": {},
   "source": [
    "## 23rd March 2019"
   ]
  },
  {
   "cell_type": "markdown",
   "metadata": {},
   "source": [
    "## 13th April 2019 \n",
    "\n",
    "### What went well and learnings \n",
    "\n",
    "After a couple weeks on annual leave and weekend back home in the North East, I am now back in Paddington and focusing on the Data Academy. Disappointingly, I did not recieve an interview for a senior analytical position in Retail. It would have been a fantastic opportunity to grow again and showcase the academy to the next level of day to day seniority. \n",
    "\n",
    "#### Achievements\n",
    "\n",
    "-  Collated and begun analysis of my K-means clustering project (Exploring the relationship between waste and lost opportunity across the M&S main chain estate)\n",
    "\n",
    "-  Begun transferring my journal to Jupyter\n",
    "\n",
    "\n",
    "\n",
    "### What requires focus and progress (the week ahead) \n",
    "\n",
    "-  Complete and submit the clustering project and begin working on the association rules project \n",
    "-  Sign up for any upcoming workshops Association Rules Workshop\n",
    "-  Book in time with my mentor\n",
    "\n",
    "\n",
    "### Useful articles, blogs and misc\n",
    "\n",
    "__[Add a Spell Checker to Jupyter Notebook](http://qingkaikong.blogspot.com/2018/09/spell-checking-in-jupyter-notebook.html)__ - This neat blog details how to add a spell check to Jupyter. Really useful! Will explore further the additional extensions that have been added to my machine. "
   ]
  },
  {
   "cell_type": "markdown",
   "metadata": {},
   "source": [
    "## 18th April 2019\n",
    "\n",
    "### Clustering Analysis Feedback\n",
    "\n",
    "I was very pleased with the feedback received from my first Decoded Project and will look to continue the same approach for all my portfolio submissions.\n",
    "\n",
    "I think there will be significant holistic benefits to becoming comfortable with the K-Means algorithm as I am likely to use it again on my own work projects.\n"
   ]
  },
  {
   "cell_type": "markdown",
   "metadata": {},
   "source": [
    "## 27th April 2019\n",
    "\n",
    "### What went well and learnings \n",
    "\n",
    "This week I attended the Visualisation workshop at Waterside. I found the course useful, especially the focus on the introduction to different visualisation packages.\n",
    "\n",
    "### What requires focus and progress (the week ahead)\n",
    "-  Presenting Clustering Analysis to Food Analytics \n",
    "-  Complete Association rules project\n",
    "\n",
    "### Useful articles, blogs and misc\n",
    "\n",
    "-  https://pbpython.com/pandas_dtypes.html\n",
    "-  https://www.weirdgeek.com/2018/11/plotting-stacked-bar-graph/\n",
    "-  https://developer.mozilla.org/en-US/docs/Web/CSS/CSS_Colors/Color_picker_tool"
   ]
  },
  {
   "cell_type": "markdown",
   "metadata": {},
   "source": [
    "## 11th May 2019\n",
    "\n",
    "### What went well and learnings \n",
    "\n",
    "- As a concept I'm not fully comfortable with yet, I have done a lot of external reading on Association Rules this week. I have linked some of these articles below.\n",
    "- I completed the online learning for association rules using JN.\n",
    "\n",
    "\n",
    "\n",
    "### What requires focus and progress (the week ahead)\n",
    "\n",
    "- Prepare data sources for association rules. My initial thoughts are to look at products within a Food baskets where there has been an alternative source of payment i.e. A credit voucher \n",
    "\n",
    "\n",
    "### Useful articles, blogs and misc\n",
    "\n",
    "- https://towardsdatascience.com/association-rules-2-aa9a77241654\n",
    "- https://www.sciencedirect.com/topics/computer-science/association-analysis\n"
   ]
  },
  {
   "cell_type": "markdown",
   "metadata": {},
   "source": [
    "## 25th May 2019\n",
    "\n",
    "\n",
    "\n",
    "### What went well and learnings \n",
    "\n",
    "- Decoded Hackathon 15th May Marble Arch Store- Our team, 'Data Vaders' focused on identifying Food basket products deterministic of a £20 a average spend. We initially set out to understand what else customers were likely to buy and then recommend some strategic insight on how we could potentially increase basket size and thus generate additional spend. \n",
    "- It was a useful day in terms of using python exclusively to clean what was a large and complex dataset. Ultimately, we didn't quite reach our goal, but took away plenty of learnings for the next decoded hackathon. \n",
    "\n",
    "### What requires focus and progress (the week ahead)\n",
    "\n",
    "- Completion of Association Rules Project\n",
    "- Submit findings from Hackathon\n",
    "\n",
    "\n",
    "\n",
    "### Useful articles, blogs and misc\n",
    "\n",
    "- Pivot Tables explained https://pbpython.com/pandas-pivot-table-explained.html"
   ]
  },
  {
   "cell_type": "markdown",
   "metadata": {},
   "source": [
    "## 8th June 2019\n",
    "\n",
    "### What went well and learnings\n",
    "- Webinar Workshop: Regression Modeling (28th May 2019)\n",
    "- Separate to the data academy, I was a data ambassador for the M&S Charity Data Dive. It was great to see some of the techniques from the scheme being applied throughout the day\n",
    "- The role of data ambassador has been quite time consuming working with and preparing the my charity's data- this has had a slight impact on academy time for the last two weeks.\n",
    "\n",
    "\n",
    "### What requires focus and progress (the week ahead)\n",
    "- Completion of Association Rules Project\n",
    "\n",
    "\n",
    "### Useful articles, blogs and misc\n",
    "\n",
    "- Towards Data Science- I first found this website for an association rules project, but now I am using the website for frequently for daily reads- https://towardsdatascience.com/"
   ]
  },
  {
   "cell_type": "markdown",
   "metadata": {},
   "source": [
    "## 22nd June 2019\n",
    "\n",
    "### What went well and learnings \n",
    "\n",
    "- Classification Workshop 18th June\n",
    "- Following completion of the workshop, a group of cohorts and I spent some time with an M&S data scientist to help bring to life where the company are currently applying classification techniques\n",
    "- Submitted and received feedback for association rules project- pleased to have submitted and have some areas of focus, particularly around interpretation\n",
    "\n",
    "### What requires focus and progress (the week ahead)\n",
    "- Completion of Regression Model Project\n",
    "- Book in Quarterly Review\n",
    "\n",
    "### Useful articles, blogs and misc\n",
    "\n",
    "\n",
    "- http://elartu.tntu.edu.ua/bitstream/123456789/1716/4/12ktibrm.pdf"
   ]
  }
 ],
 "metadata": {
  "kernelspec": {
   "display_name": "Python 3",
   "language": "python",
   "name": "python3"
  },
  "language_info": {
   "codemirror_mode": {
    "name": "ipython",
    "version": 3
   },
   "file_extension": ".py",
   "mimetype": "text/x-python",
   "name": "python",
   "nbconvert_exporter": "python",
   "pygments_lexer": "ipython3",
   "version": "3.7.0"
  }
 },
 "nbformat": 4,
 "nbformat_minor": 2
}
