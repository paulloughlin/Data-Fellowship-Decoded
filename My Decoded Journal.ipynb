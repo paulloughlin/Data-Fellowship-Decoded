{
 "cells": [
  {
   "cell_type": "markdown",
   "metadata": {},
   "source": [
    "# My Decoded Journal"
   ]
  },
  {
   "cell_type": "markdown",
   "metadata": {},
   "source": [
    "\n",
    "<style>\n",
    "body {\n",
    "    font-family: \"Calibri\", cursive, sans-serif;\n",
    "}\n",
    "</style>"
   ]
  },
  {
   "cell_type": "markdown",
   "metadata": {},
   "source": [
    "This is my Decoded Journal. Throughout my journey with the M&S Data Academy, I will use Jupyter Notebook to document and publish (via Github) my thoughts, achievements and milestones individually and with my cohort.\n",
    "\n",
    "I will also use the medium to practice my Jupyter markdown code. \n",
    "\n",
    "[Markdown Cheat Sheet](https://medium.com/ibm-data-science-experience/markdown-for-jupyter-notebooks-cheatsheet-386c05aeebed)\n",
    "\n",
    "### Diary Entries\n",
    "\n",
    "-  [1st December 2018](#1st-December-2018)\n",
    "-  [15th December 2018](#13th-April-2019)\n",
    "-  [12th January 2019](#12th-January-2019)\n",
    "-  [26th January 2019](#26th-January-2019)\n",
    "-  [9th February 2019](#9th-February-2019)\n",
    "-  [23rd February 2019](#23th-February-2019)\n",
    "-  [9th March 2019](#9th-March-2019)\n",
    "-  [23rd March 2019](#23rd-March-2019)\n",
    "-  [13th April 2019](#13th-April-2019)\n",
    "\n",
    "\n",
    "\n",
    "\n",
    "\n",
    "\n",
    "\n",
    "\n",
    "\n"
   ]
  },
  {
   "cell_type": "markdown",
   "metadata": {},
   "source": [
    "## 1st December 2018"
   ]
  },
  {
   "cell_type": "markdown",
   "metadata": {},
   "source": [
    "## 15th December 2018"
   ]
  },
  {
   "cell_type": "markdown",
   "metadata": {},
   "source": [
    "## 12th January 2019"
   ]
  },
  {
   "cell_type": "markdown",
   "metadata": {},
   "source": [
    "## 26th January 2019"
   ]
  },
  {
   "cell_type": "markdown",
   "metadata": {},
   "source": [
    "## 9th February 2019"
   ]
  },
  {
   "cell_type": "markdown",
   "metadata": {},
   "source": [
    "## 23rd February 2019"
   ]
  },
  {
   "cell_type": "markdown",
   "metadata": {},
   "source": [
    "## 9th March 2019"
   ]
  },
  {
   "cell_type": "markdown",
   "metadata": {},
   "source": [
    "## 23rd March 2019"
   ]
  },
  {
   "cell_type": "markdown",
   "metadata": {},
   "source": [
    "## 13th April 2019 \n",
    "\n",
    "### What went well and learnings \n",
    "\n",
    "After a couple weeks on annual leave and weekend back home in the North East, I am now back in Paddington and focusing on the Data Academy. Disappointingly, I did not recieve an interview for a senior analytical position in Retail. It would have been a fantastic opportunity to grow again and showcase the academy to the next level of day to day seniority. \n",
    "\n",
    "#### Achievements\n",
    "\n",
    "-  Collated and begun analysis of my K-means clustering project (Exploring the relationship between waste and lost opportunity across the M&S main chain estate)\n",
    "\n",
    "-  Begun transferring my journal to Jupyter\n",
    "\n",
    "\n",
    "\n",
    "### What requires focus and progress (the week ahead) \n",
    "\n",
    "-  Complete and submit the clustering project and begin working on the association rules project \n",
    "-  Sign up for any upcoming workshops \n",
    "-  Book in time with my mentor\n",
    "\n",
    "\n",
    "### Useful articles, blogs and misc\n",
    "\n",
    "__[Add a Spell Checker to Jupyter Notebook](http://qingkaikong.blogspot.com/2018/09/spell-checking-in-jupyter-notebook.html)__ - This neat blog details how to add a spell check to Jupyter. Really useful! Will explore further the additional extensions that have been added to my machine. "
   ]
  },
  {
   "cell_type": "markdown",
   "metadata": {},
   "source": []
  }
 ],
 "metadata": {
  "kernelspec": {
   "display_name": "Python 3",
   "language": "python",
   "name": "python3"
  },
  "language_info": {
   "codemirror_mode": {
    "name": "ipython",
    "version": 3
   },
   "file_extension": ".py",
   "mimetype": "text/x-python",
   "name": "python",
   "nbconvert_exporter": "python",
   "pygments_lexer": "ipython3",
   "version": "3.7.0"
  }
 },
 "nbformat": 4,
 "nbformat_minor": 2
}
